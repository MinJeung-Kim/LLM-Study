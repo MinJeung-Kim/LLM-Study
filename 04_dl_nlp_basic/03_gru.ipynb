{
 "cells": [
  {
   "cell_type": "markdown",
   "id": "1ee437e8",
   "metadata": {},
   "source": [
    "# GRU"
   ]
  },
  {
   "cell_type": "markdown",
   "id": "8218e614",
   "metadata": {},
   "source": [
    "### 데이터 준비"
   ]
  },
  {
   "cell_type": "code",
   "execution_count": 2,
   "id": "aeac6256",
   "metadata": {},
   "outputs": [
    {
     "data": {
      "text/plain": [
       "(torch.Size([10000, 150, 300]), torch.Size([5000, 150, 300]))"
      ]
     },
     "execution_count": 2,
     "metadata": {},
     "output_type": "execute_result"
    }
   ],
   "source": [
    "from tensorflow.keras.datasets import imdb\n",
    "import torch\n",
    "import torch.nn.functional as F\n",
    "\n",
    "VOCAB_SIZE = 300 # 사용할 단어 수\n",
    "SEQ_LEN = 150    # 시퀀스 하나의 최대 길이\n",
    "\n",
    "# 데이터 로드\n",
    "(train_input, train_target), (test_input, test_target) = imdb.load_data(num_words=VOCAB_SIZE)\n",
    "\n",
    "# Torch Tensor 변환\n",
    "train_input = [torch.tensor(seq, dtype=torch.long) for seq in train_input][:10000] \n",
    "test_input = [torch.tensor(seq, dtype=torch.long) for seq in test_input][:5000] \n",
    "\n",
    "train_target = torch.tensor(train_target, dtype=torch.long)[:10000]\n",
    "test_target = torch.tensor(test_target, dtype=torch.long)[:5000]\n",
    "\n",
    "# 패딩 처리\n",
    "def pad_sequences(sequences, maxlen, padding_value=0):\n",
    "    padded_sequences = [F.pad(seq[:maxlen], (0, max(0, maxlen-len(seq))), value=padding_value) for seq in sequences]\n",
    "    return torch.stack(padded_sequences)\n",
    "\n",
    "train_seq = pad_sequences(train_input, maxlen=SEQ_LEN)\n",
    "test_seq = pad_sequences(test_input, maxlen=SEQ_LEN)\n",
    "\n",
    "# one-hot encoding 처리\n",
    "train_onehot = F.one_hot(train_seq, num_classes=VOCAB_SIZE).float()\n",
    "test_onehot = F.one_hot(test_seq, num_classes=VOCAB_SIZE).float()\n",
    "\n",
    "# label 데이터 실수 처리\n",
    "train_target = train_target.float()\n",
    "test_target = test_target.float()\n",
    "\n",
    "train_onehot.shape, test_onehot.shape"
   ]
  },
  {
   "cell_type": "markdown",
   "id": "c21a3594",
   "metadata": {},
   "source": [
    "### 학습 함수 정의"
   ]
  },
  {
   "cell_type": "code",
   "execution_count": 3,
   "id": "5d132580",
   "metadata": {},
   "outputs": [],
   "source": [
    "import torch.nn as nn\n",
    "import torch.optim as optim\n",
    "import pandas as pd\n",
    "from torch.utils.data import DataLoader, TensorDataset, random_split\n",
    "import matplotlib.pyplot as plt\n",
    "\n",
    "def train_func(train_data, train_label, model):\n",
    "\n",
    "    # 배치 사이즈, 학습/검증셋 크기 설정\n",
    "    BATCH_SIZE = 65\n",
    "    train_size = int(len(train_data) * 0.8)\n",
    "    val_size = len(train_data) - train_size\n",
    "\n",
    "\n",
    "    # 데이터 학습/검증셋 분할\n",
    "    train_dataset, val_dataset = random_split(TensorDataset(train_data, train_label), [train_size, val_size])\n",
    "    # 미니배치로 사용할 수 있도록 DataLoader 생성\n",
    "    train_loader = DataLoader(train_dataset, batch_size=BATCH_SIZE, shuffle=True)\n",
    "    val_loader = DataLoader(val_dataset, batch_size=BATCH_SIZE)\n",
    "\n",
    "    # epoch(학습 횟수), 손실 함수, 최적화 함수 정의\n",
    "    epochs = 100\n",
    "    criterion = nn.BCELoss()\n",
    "    optimizer = optim.Adam(model.parameters(), lr=0.005)\n",
    "\n",
    "    # 시각화를 위한 손실값/정확도 저장용 배열 생성\n",
    "    train_losses, val_losses, train_accs, val_accs = [], [], [], []\n",
    "\n",
    "    # 조기종료 관련 변수 초기화\n",
    "    early_stopping_patience = 7\n",
    "    best_val_loss = float('inf')\n",
    "    early_stop_counter = 0\n",
    "\n",
    "    # 학습 진행\n",
    "    for epoch in range(epochs):\n",
    "        # 학습 모드\n",
    "        model.train()\n",
    "        total_loss, correct, total = 0, 0, 0\n",
    "\n",
    "        for inputs, targets in train_loader:\n",
    "            optimizer.zero_grad()               # 가중치 초기화\n",
    "            outputs = model(inputs).squeeze()   # 순전파\n",
    "\n",
    "            loss = criterion(outputs, targets)  # 손실 계산\n",
    "\n",
    "            loss.backward()                     # 역전파\n",
    "            optimizer.step()                    # 가중치 갱신\n",
    "            total_loss += loss.item()\n",
    "\n",
    "            pred = (outputs > 0.5).float()\n",
    "            correct += (pred == targets).sum().item()\n",
    "            total += targets.size(0)\n",
    "\n",
    "        train_loss = total_loss / len(train_loader)\n",
    "        train_acc = correct / total\n",
    "        train_losses.append(train_loss)\n",
    "        train_accs.append(train_acc)\n",
    "            \n",
    "        # 검증 모드\n",
    "        model.eval()\n",
    "        val_loss, val_correct, val_total = 0, 0, 0\n",
    "\n",
    "        with torch.no_grad():\n",
    "            for val_inputs, val_targets in val_loader:\n",
    "                val_outputs = model(val_inputs).squeeze()   # 순전파\n",
    "                loss = criterion(val_outputs, val_targets)  # 손실 계산\n",
    "                val_loss += loss.item()\n",
    "\n",
    "                val_pred = (val_outputs > 0.5).float()\n",
    "                val_correct += (val_pred == val_targets).sum().item()\n",
    "                val_total += val_targets.size(0)\n",
    "\n",
    "        val_loss = val_loss / len(val_loader)\n",
    "        val_acc = val_correct / val_total\n",
    "        val_losses.append(val_loss)\n",
    "        val_accs.append(val_acc)    \n",
    "\n",
    "        print(f'Epoch {epoch+1}/{epochs} | Train Loss: {train_loss:.4f}, Train Acc: {train_acc:.4f}, Val Loss: {val_loss:.4f}, Val Acc: {val_acc:.4f}')\n",
    "\n",
    "        # 조기종료 처리\n",
    "        if val_loss < best_val_loss:\n",
    "            best_val_loss = val_loss\n",
    "            early_stop_counter = 0\n",
    "        else:\n",
    "            early_stop_counter += 1\n",
    "            if early_stop_counter >= early_stopping_patience:\n",
    "                print(\"Early stopping!!!\")\n",
    "                break\n",
    "\n",
    "    train_history_df = pd.DataFrame({\n",
    "        'train_loss': train_losses,\n",
    "        'val_loss': val_losses,\n",
    "        'train_acc': train_accs,\n",
    "        'val_accs': val_accs\n",
    "    })\n",
    "\n",
    "    train_history_df.plot()\n",
    "    plt.show()"
   ]
  },
  {
   "cell_type": "markdown",
   "id": "7e7c3e4f",
   "metadata": {},
   "source": [
    "### 평가 함수 정의"
   ]
  },
  {
   "cell_type": "code",
   "execution_count": 4,
   "id": "82105425",
   "metadata": {},
   "outputs": [],
   "source": [
    "def evaluate_model(model, test_loader, criterion):\n",
    "    model.eval()\n",
    "    val_loss, val_correct, val_total = 0, 0, 0\n",
    "\n",
    "    with torch.no_grad():\n",
    "        for val_inputs, val_targets in test_loader:\n",
    "            val_outputs = model(val_inputs).squeeze()   # 순전파\n",
    "            loss = criterion(val_outputs, val_targets)  # 손실 계산\n",
    "            val_loss += loss.item()\n",
    "\n",
    "            val_pred = (val_outputs > 0.5).float()\n",
    "            val_correct += (val_pred == val_targets).sum().item()\n",
    "            val_total += val_targets.size(0)\n",
    "\n",
    "    test_loss = val_loss / len(test_loader)\n",
    "    test_acc = val_correct / val_total\n",
    "    return test_loss, test_acc\n",
    "  "
   ]
  },
  {
   "cell_type": "code",
   "execution_count": 5,
   "id": "88260dff",
   "metadata": {},
   "outputs": [],
   "source": [
    "class GRUModel(nn.Module):\n",
    "    def __init__(self, input_dim, hidden_units, output_dim, return_sequences=False, return_state=False):\n",
    "        super(GRUModel, self).__init__()\n",
    "        self.return_sequences = return_sequences\n",
    "        self.return_state = return_state\n",
    "        self.gru = nn.GRU(input_size=input_dim, hidden_size=hidden_units, batch_first=True)\n",
    "        self.fc = nn.Linear(hidden_units, output_dim)\n",
    "        self.sigmoid = nn.Sigmoid()\n",
    "\n",
    "    def forward(self, x):\n",
    "        output, hidden = self.gru(x)\n",
    "        result_output = self.fc(hidden[-1])\n",
    "\n",
    "        if self.return_sequences and self.return_state:\n",
    "            return output, hidden[-1]\n",
    "        elif self.return_sequences:\n",
    "            return output\n",
    "        elif self.return_state:\n",
    "            return output[:, -1:, :], hidden[-1]\n",
    "        \n",
    "        return self.sigmoid(result_output)"
   ]
  },
  {
   "cell_type": "code",
   "execution_count": 6,
   "id": "40d9b65f",
   "metadata": {},
   "outputs": [],
   "source": [
    "HIDDEN_DIM = 8\n",
    "OUTPUT_DIM = 1\n",
    "\n",
    "gru_model = GRUModel(\n",
    "    input_dim=VOCAB_SIZE,\n",
    "    hidden_units=HIDDEN_DIM,\n",
    "    output_dim=OUTPUT_DIM\n",
    ")"
   ]
  },
  {
   "cell_type": "code",
   "execution_count": 7,
   "id": "c02eb763",
   "metadata": {},
   "outputs": [
    {
     "name": "stdout",
     "output_type": "stream",
     "text": [
      "Epoch 1/100 | Train Loss: 0.6935, Train Acc: 0.5031, Val Loss: 0.6931, Val Acc: 0.5005\n",
      "Epoch 2/100 | Train Loss: 0.6913, Train Acc: 0.5289, Val Loss: 0.6947, Val Acc: 0.5130\n",
      "Epoch 3/100 | Train Loss: 0.6817, Train Acc: 0.5603, Val Loss: 0.6799, Val Acc: 0.5680\n",
      "Epoch 4/100 | Train Loss: 0.6385, Train Acc: 0.6500, Val Loss: 0.6016, Val Acc: 0.7025\n",
      "Epoch 5/100 | Train Loss: 0.5686, Train Acc: 0.7195, Val Loss: 0.5492, Val Acc: 0.7285\n",
      "Epoch 6/100 | Train Loss: 0.5120, Train Acc: 0.7564, Val Loss: 0.5325, Val Acc: 0.7370\n",
      "Epoch 7/100 | Train Loss: 0.4889, Train Acc: 0.7751, Val Loss: 0.5256, Val Acc: 0.7390\n",
      "Epoch 8/100 | Train Loss: 0.4685, Train Acc: 0.7804, Val Loss: 0.5113, Val Acc: 0.7550\n",
      "Epoch 9/100 | Train Loss: 0.4545, Train Acc: 0.7894, Val Loss: 0.5099, Val Acc: 0.7555\n",
      "Epoch 10/100 | Train Loss: 0.4359, Train Acc: 0.7967, Val Loss: 0.5247, Val Acc: 0.7505\n",
      "Epoch 11/100 | Train Loss: 0.4294, Train Acc: 0.8049, Val Loss: 0.5173, Val Acc: 0.7555\n",
      "Epoch 12/100 | Train Loss: 0.4156, Train Acc: 0.8155, Val Loss: 0.5146, Val Acc: 0.7580\n",
      "Epoch 13/100 | Train Loss: 0.4079, Train Acc: 0.8180, Val Loss: 0.5427, Val Acc: 0.7455\n",
      "Epoch 14/100 | Train Loss: 0.3947, Train Acc: 0.8211, Val Loss: 0.5370, Val Acc: 0.7550\n",
      "Epoch 15/100 | Train Loss: 0.3863, Train Acc: 0.8275, Val Loss: 0.5453, Val Acc: 0.7425\n",
      "Epoch 16/100 | Train Loss: 0.3789, Train Acc: 0.8384, Val Loss: 0.5748, Val Acc: 0.7345\n",
      "Early stopping!!!\n"
     ]
    },
    {
     "data": {
      "image/png": "[encoded data removed]",
      "text/plain": [
       "<Figure size 640x480 with 1 Axes>"
      ]
     },
     "metadata": {},
     "output_type": "display_data"
    }
   ],
   "source": [
    "train_func(train_onehot, train_target, gru_model)"
   ]
  }
 ],
 "metadata": {
  "kernelspec": {
   "display_name": "ml_env",
   "language": "python",
   "name": "python3"
  },
  "language_info": {
   "codemirror_mode": {
    "name": "ipython",
    "version": 3
   },
   "file_extension": ".py",
   "mimetype": "text/x-python",
   "name": "python",
   "nbconvert_exporter": "python",
   "pygments_lexer": "ipython3",
   "version": "3.12.11"
  }
 },
 "nbformat": 4,
 "nbformat_minor": 5
}
