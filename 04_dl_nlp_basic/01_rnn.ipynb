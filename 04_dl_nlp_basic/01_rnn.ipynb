{
 "cells": [
  {
   "cell_type": "markdown",
   "id": "c4e4e3c5",
   "metadata": {},
   "source": [
    "## RNN"
   ]
  },
  {
   "cell_type": "code",
   "execution_count": 28,
   "id": "9be41789",
   "metadata": {},
   "outputs": [],
   "source": [
    "# 사용할 상수 정의 \n",
    "\n",
    "VOCAB_SIZE = 300  # 어휘 사전의 크기(사용할 단어 수)\n",
    "SEQ_LENGTH = 150  # 시퀀스 하나의 최대 길이"
   ]
  },
  {
   "cell_type": "markdown",
   "id": "e745224d",
   "metadata": {},
   "source": [
    "### 데이터 준비"
   ]
  },
  {
   "cell_type": "code",
   "execution_count": 29,
   "id": "7ed7c422",
   "metadata": {},
   "outputs": [],
   "source": [
    "from tensorflow.keras.datasets import imdb \n",
    "\n",
    "# imdb : 인터넷 영화 데이터베이스\n",
    "# 각 데이터는 (리뷰 내용, 리뷰 레이블)로 구성\n",
    "# 긍정/부정 리뷰 데이터셋 제공\n",
    "# 레이블 : 0(부정), 1(긍정)\n",
    "# 훈련 데이터 25,000개, 테스트 데이터 25,000개로 구성\n",
    "# 데이터는 이미 정수 인코딩(단어를 정수로 변환)되어 있음\n",
    "# 데이터셋은 keras.datasets.imdb 모듈에서 제공\n",
    "# 튜플의 형태로 (훈련 데이터, 테스트 데이터) 제공\n",
    "\n",
    "# load_data() : imdb 데이터셋을 불러오는 함수\n",
    "#     - num_words : 자주 등장하는 단어 순서대로 몇 개의 단어를 사용할지 지정\n",
    "(train_input, train_target), (test_input, test_target) = imdb.load_data(num_words=VOCAB_SIZE) \n",
    " \n"
   ]
  },
  {
   "cell_type": "code",
   "execution_count": 30,
   "id": "f6ca3118",
   "metadata": {},
   "outputs": [
    {
     "data": {
      "text/plain": [
       "((25000, 150), (25000, 150))"
      ]
     },
     "execution_count": 30,
     "metadata": {},
     "output_type": "execute_result"
    }
   ],
   "source": [
    "from tensorflow.keras.preprocessing.sequence import pad_sequences\n",
    "\n",
    "# 시퀀스 길이 맞추기 => 왜? RNN 모델에 입력하려면 시퀀스 길이가 같아야 하기 때문\n",
    "train_seq = pad_sequences(train_input, maxlen=SEQ_LENGTH)\n",
    "test_seq = pad_sequences(test_input, maxlen=SEQ_LENGTH)\n",
    "\n",
    "train_seq.shape, test_seq.shape"
   ]
  },
  {
   "cell_type": "code",
   "execution_count": 31,
   "id": "4da04991",
   "metadata": {},
   "outputs": [
    {
     "name": "stdout",
     "output_type": "stream",
     "text": [
      "10000 5000\n",
      "torch.Size([10000]) torch.Size([5000])\n"
     ]
    }
   ],
   "source": [
    "# Torch Tensor 변환\n",
    "import torch\n",
    "\n",
    "# 시퀀스 데이터를 LongTensor로 변환 (정수형 텐서)\n",
    "train_input = [torch.tensor(seq, dtype=torch.long) for seq in train_input][:10000]\n",
    "test_input = [torch.tensor(seq, dtype=torch.long) for seq in test_input][:5000]\n",
    "\n",
    "# 레이블 데이터를 FloatTensor로 변환 (실수형 텐서)\n",
    "train_target = torch.tensor(train_target[:10000], dtype=torch.float)\n",
    "test_target = torch.tensor(test_target[:5000], dtype=torch.float)\n",
    "\n",
    "print(len(train_input), len(test_input))\n",
    "print(train_target.shape, test_target.shape)"
   ]
  },
  {
   "cell_type": "code",
   "execution_count": 32,
   "id": "4715b352",
   "metadata": {},
   "outputs": [
    {
     "data": {
      "image/png": "[encoded data removed]",
      "text/plain": [
       "<Figure size 640x480 with 1 Axes>"
      ]
     },
     "metadata": {},
     "output_type": "display_data"
    }
   ],
   "source": [
    "import matplotlib.pyplot as plt\n",
    "\n",
    "train_len = [len(seq) for seq in train_input]\n",
    "plt.hist(train_len, bins=20)\n",
    "plt.xlabel(\"seq_length\")\n",
    "plt.ylabel(\"frequency\")\n",
    "plt.show()"
   ]
  },
  {
   "cell_type": "code",
   "execution_count": 34,
   "id": "85cbf4c0",
   "metadata": {},
   "outputs": [],
   "source": [
    "import torch.nn.functional as F # 패딩 함수 사용을 위해 임포트\n",
    "\n",
    "# 시퀀스 길이 맞추기 함수 정의\n",
    "def pad_sequences(sequences, maxlen, padding_value=0):\n",
    "    # 0으로 패딩 추가 (또는 자르기) \n",
    "    padded_sequences = [F.pad(seq[:maxlen], (0, max(0, maxlen - len(seq))), value=padding_value) for seq in sequences]\n",
    "    return torch.stack(padded_sequences)\n",
    "\n",
    "train_seq = pad_sequences(train_input, maxlen=SEQ_LENGTH)\n",
    "test_seq = pad_sequences(test_input, maxlen=SEQ_LENGTH)"
   ]
  },
  {
   "cell_type": "code",
   "execution_count": null,
   "id": "df9db96a",
   "metadata": {},
   "outputs": [
    {
     "data": {
      "text/plain": [
       "(torch.Size([10000, 150, 300]), torch.Size([5000, 150, 300]))"
      ]
     },
     "execution_count": 35,
     "metadata": {},
     "output_type": "execute_result"
    }
   ],
   "source": [
    "# one-hot encoding\n",
    "\n",
    "# 시퀀스 데이터를 원-핫 인코딩으로 변환\n",
    "# 각 단어를 VOCAB_SIZE 크기의 벡터로 변환\n",
    "# 예: 단어 인덱스 5 -> [0, 0, 0, 0, 0, 1, 0, ..., 0] (VOCAB_SIZE 길이)\n",
    "train_onehot = F.one_hot(train_seq, num_classes=VOCAB_SIZE).float()\n",
    "test_onehot = F.one_hot(test_seq, num_classes=VOCAB_SIZE).float()\n",
    "\n",
    "train_onehot.shape, test_onehot.shape"
   ]
  },
  {
   "cell_type": "markdown",
   "id": "84663bc4",
   "metadata": {},
   "source": [
    "### 모델 준비 및 학습"
   ]
  },
  {
   "cell_type": "code",
   "execution_count": 38,
   "id": "79bc126e",
   "metadata": {},
   "outputs": [],
   "source": [
    "import torch.nn as nn\n",
    "\n",
    "# RNN 모델 정의\n",
    "class SentimentRNN(nn.Module):\n",
    "    def __init__(self, seq_len, vocab_size, hidden_dim, output_dim):\n",
    "        super(SentimentRNN, self).__init__() # 부모 클래스 nn.Module 초기화\n",
    "        \n",
    "        # RNN 레이어 정의\n",
    "        self.rnn = nn.RNN(\n",
    "            input_size=vocab_size, # 입력 크기 (원-핫 인코딩 벡터 크기) \n",
    "            hidden_size=hidden_dim, # 은닉 상태 크기\n",
    "            batch_first=True # 입력 텐서의 첫 번째 차원이 배치 크기임을 지정\n",
    "            )\n",
    "        \n",
    "        # 출력 레이어 정의\n",
    "        self.fx = nn.Linear(\n",
    "            hidden_dim, # 입력 크기 (RNN의 은닉 상태 크기)\n",
    "            output_dim # 출력 크기 (긍정/부정 분류)\n",
    "            )\n",
    "        self.sigmoid = nn.Sigmoid() # 시그모이드 활성화 함수 정의\n",
    "        \n",
    "    def forward(self, x): # 순전파 메서드 정의 \n",
    "        _, hidden = self.rnn(x)  # RNN 레이어 통과\n",
    "        out = self.fx(hidden.squeeze(0)) # 출력 레이어 통과\n",
    "        return self.sigmoid(out) # 시그모이드 활성화 함수 적용 후 반환"
   ]
  },
  {
   "cell_type": "code",
   "execution_count": null,
   "id": "d8af7758",
   "metadata": {},
   "outputs": [
    {
     "name": "stdout",
     "output_type": "stream",
     "text": [
      "SentimentRNN(\n",
      "  (rnn): RNN(300, 8, batch_first=True)\n",
      "  (fx): Linear(in_features=8, out_features=1, bias=True)\n",
      "  (sigmoid): Sigmoid()\n",
      ")\n"
     ]
    }
   ],
   "source": [
    "HIDDEN_DIM = 8  # RNN 은닉 상태 크기\n",
    "OUTPUT_DIM = 1  # 출력 크기 (긍정/부정 분류)\n",
    "\n",
    "model = SentimentRNN(\n",
    "    seq_len=SEQ_LENGTH, # 시퀀스 길이\n",
    "    vocab_size=VOCAB_SIZE, # 어휘 사전 크기\n",
    "    hidden_dim=HIDDEN_DIM, # 은닉 상태 크기\n",
    "    output_dim=OUTPUT_DIM # 출력 크기\n",
    ")\n",
    "\n",
    "print(model)"
   ]
  },
  {
   "cell_type": "code",
   "execution_count": 40,
   "id": "a873eb78",
   "metadata": {},
   "outputs": [],
   "source": [
    "# 학습을 위한 설정\n",
    "import torch.optim as optim\n",
    "import pandas as pd\n",
    "from torch.utils.data import DataLoader, TensorDataset, random_split\n",
    "\n",
    "BATCH_SIZE = 64  # 배치 크기\n",
    "\n",
    "train_size = int(0.8 * len(train_onehot))  # 훈련 데이터 크기 (80%)\n",
    "val_size = len(train_onehot) - train_size  # 검증 데이터 크기 (20%)\n",
    "\n",
    "# label을 float 타입으로 변환\n",
    "train_target = train_target.float()\n",
    "test_target = test_target.float()\n",
    "\n",
    "# 훈련 데이터와 검증 데이터를 분할\n",
    "# TensorDataset : 텐서 데이터를 묶어서 데이터셋으로 만듦\n",
    "train_dataset, val_dataset = random_split(\n",
    "    TensorDataset(train_onehot, train_target),  # 전체 훈련 데이터셋\n",
    "    [train_size, val_size] # 분할할 크기 리스트 (훈련 데이터 크기, 검증 데이터 크기)\n",
    "    )\n",
    "\n",
    "# DataLoader : 배치 단위로 데이터를 불러오는 역할\n",
    "train_loader = DataLoader(\n",
    "    train_dataset, # 훈련 데이터셋\n",
    "    batch_size=BATCH_SIZE, # 배치 크기\n",
    "    shuffle=True # 데이터 섞기\n",
    ")\n",
    "val_loader = DataLoader( # 검증 데이터 로더\n",
    "    val_dataset, # 검증 데이터셋\n",
    "    batch_size=BATCH_SIZE,  # 배치 크기\n",
    ")\n",
    "\n",
    "epochs = 100  # 에포크 수\n",
    "criterion = nn.BCELoss()  # 이진 교차 엔트로피 손실 함수\n",
    "optimizer = optim.Adam(model.parameters(), lr=0.005)  # Adam 옵티마이저\n",
    "\n",
    "train_losses, val_losses, train_accs, val_accs = [], [], [], []  # 훈련 손실 및 정확도 기록용 리스트\n",
    "\n",
    "early_stopping_patience = 5  # 조기 종료를 위한 인내심 설정\n",
    "best_val_loss = float('inf')  # 최상의 검증 손실 초기화\n",
    "early_stop_counter = 0  # 인내심 카운터 초기화\n"
   ]
  },
  {
   "cell_type": "code",
   "execution_count": 41,
   "id": "363db663",
   "metadata": {},
   "outputs": [
    {
     "name": "stdout",
     "output_type": "stream",
     "text": [
      "Epoch 1/100 | Train Loss: 0.6944, Train Acc: 0.5118, Val Loss: 3.4077, Val Acc: 0.5060\n",
      "Epoch 2/100 | Train Loss: 0.6892, Train Acc: 0.5327, Val Loss: 3.3926, Val Acc: 0.4700\n",
      "Epoch 3/100 | Train Loss: 0.6822, Train Acc: 0.5466, Val Loss: 3.3718, Val Acc: 0.4925\n",
      "Epoch 4/100 | Train Loss: 0.6694, Train Acc: 0.5705, Val Loss: 3.3365, Val Acc: 0.4615\n",
      "Epoch 5/100 | Train Loss: 0.6543, Train Acc: 0.5855, Val Loss: 3.2961, Val Acc: 0.4980\n",
      "Epoch 6/100 | Train Loss: 0.6430, Train Acc: 0.5941, Val Loss: 3.2652, Val Acc: 0.4950\n",
      "Epoch 7/100 | Train Loss: 0.6332, Train Acc: 0.6130, Val Loss: 3.2353, Val Acc: 0.4665\n",
      "Epoch 8/100 | Train Loss: 0.6251, Train Acc: 0.6155, Val Loss: 3.2276, Val Acc: 0.5000\n",
      "Epoch 9/100 | Train Loss: 0.6192, Train Acc: 0.6248, Val Loss: 3.2112, Val Acc: 0.4625\n",
      "Epoch 10/100 | Train Loss: 0.6129, Train Acc: 0.6315, Val Loss: 3.2039, Val Acc: 0.5045\n",
      "Epoch 11/100 | Train Loss: 0.6073, Train Acc: 0.6419, Val Loss: 3.1853, Val Acc: 0.5105\n",
      "Epoch 12/100 | Train Loss: 0.6013, Train Acc: 0.6420, Val Loss: 3.1626, Val Acc: 0.4765\n",
      "Epoch 13/100 | Train Loss: 0.5942, Train Acc: 0.6529, Val Loss: 3.1241, Val Acc: 0.5190\n",
      "Epoch 14/100 | Train Loss: 0.5890, Train Acc: 0.6569, Val Loss: 3.1225, Val Acc: 0.4815\n",
      "Epoch 15/100 | Train Loss: 0.5882, Train Acc: 0.6504, Val Loss: 3.1323, Val Acc: 0.5080\n",
      "Epoch 16/100 | Train Loss: 0.5809, Train Acc: 0.6626, Val Loss: 3.1103, Val Acc: 0.5115\n",
      "Epoch 17/100 | Train Loss: 0.5916, Train Acc: 0.6481, Val Loss: 3.1559, Val Acc: 0.4760\n",
      "Epoch 18/100 | Train Loss: 0.5744, Train Acc: 0.6674, Val Loss: 3.0960, Val Acc: 0.4750\n",
      "Epoch 19/100 | Train Loss: 0.5839, Train Acc: 0.6564, Val Loss: 3.1144, Val Acc: 0.4810\n",
      "Epoch 20/100 | Train Loss: 0.5635, Train Acc: 0.6700, Val Loss: 3.0521, Val Acc: 0.5120\n",
      "Epoch 21/100 | Train Loss: 0.5616, Train Acc: 0.6710, Val Loss: 3.0625, Val Acc: 0.4780\n",
      "Epoch 22/100 | Train Loss: 0.5612, Train Acc: 0.6796, Val Loss: 3.0547, Val Acc: 0.5225\n",
      "Epoch 23/100 | Train Loss: 0.5555, Train Acc: 0.6833, Val Loss: 3.0369, Val Acc: 0.5115\n",
      "Epoch 24/100 | Train Loss: 0.5524, Train Acc: 0.6866, Val Loss: 3.0306, Val Acc: 0.5175\n",
      "Epoch 25/100 | Train Loss: 0.5505, Train Acc: 0.6821, Val Loss: 3.0430, Val Acc: 0.4695\n",
      "Epoch 26/100 | Train Loss: 0.5464, Train Acc: 0.6904, Val Loss: 3.0295, Val Acc: 0.4825\n",
      "Epoch 27/100 | Train Loss: 0.6788, Train Acc: 0.5952, Val Loss: 3.4323, Val Acc: 0.4715\n",
      "Epoch 28/100 | Train Loss: 0.6591, Train Acc: 0.5855, Val Loss: 3.3390, Val Acc: 0.4705\n",
      "Epoch 29/100 | Train Loss: 0.6454, Train Acc: 0.5995, Val Loss: 3.2927, Val Acc: 0.4900\n",
      "Epoch 30/100 | Train Loss: 0.6380, Train Acc: 0.6079, Val Loss: 3.2726, Val Acc: 0.4680\n",
      "Epoch 31/100 | Train Loss: 0.6264, Train Acc: 0.6202, Val Loss: 3.2477, Val Acc: 0.4740\n",
      "Early stopping!!!\n"
     ]
    }
   ],
   "source": [
    "# 학습 과정\n",
    "for epoch in range(epochs):\n",
    "    model.train()  # 모델을 훈련 모드로 설정\n",
    "    total_loss, total, correct = 0, 0, 0  # 총 손실 및 정확도 초기화\n",
    "    \n",
    "    for inputs, targets in train_loader:\n",
    "        optimizer.zero_grad()  # 기울기 초기화\n",
    "        outputs = model(inputs).squeeze()  # 모델에 입력 데이터 전달하여 출력 계산 \n",
    "        \n",
    "        loss = criterion(outputs, targets)  # 손실 계산\n",
    "        \n",
    "        loss.backward()  # 역전파 수행\n",
    "        optimizer.step()  # 가중치 업데이트\n",
    "        \n",
    "        total_loss += loss.item()\n",
    "        \n",
    "        predicted = (outputs >= 0.5).float()  # 예측값 이진화\n",
    "        correct += (predicted == targets).sum().item()  # 정확한 예측 수 누적\n",
    "        total += targets.size(0)  # 전체 샘플 수 누적\n",
    "\n",
    "    \n",
    "    train_loss = total_loss / len(train_loader)  # 평균 훈련 손실 계산\n",
    "    train_acc = correct / total  # 훈련 정확도 계산\n",
    "    train_losses.append(train_loss)  # 훈련 손실 기록\n",
    "    train_accs.append(train_acc)  # 훈련 정확도 기록\n",
    "    \n",
    "    \n",
    "    # 검증 모드\n",
    "    model.eval()  # 모델을 평가 모드로 설정 \n",
    "    val_loss, val_total, val_correct = 0, 0, 0  # 총 손실 및 정확도 초기화\n",
    "\n",
    "    with torch.no_grad():  # 기울기 계산 비활성화\n",
    "        for val_inputs, val_targets in val_loader:\n",
    "            val_outputs = model(val_inputs).squeeze()  # 모델에 입력 데이터 전달하여 출력 계산\n",
    "\n",
    "            loss = criterion(val_outputs, val_targets)  # 손실 계산 \n",
    "            total_loss += loss.item()\n",
    "\n",
    "            predicted = (val_outputs >= 0.5).float()  # 예측값 이진화\n",
    "            val_correct += (predicted == val_targets).sum().item()  # 정확한 예측 수 누적\n",
    "            val_total += val_targets.size(0)  # 전체 샘플 수 누적\n",
    "\n",
    "\n",
    "    val_loss = total_loss / len(val_loader)  # 평균 검증 손실 계산\n",
    "    val_acc = val_correct / val_total  # 검증 정확도 계산\n",
    "    val_losses.append(val_loss)  # 검증 손실 기록\n",
    "    val_accs.append(val_acc)  # 검증 정확도 기록\n",
    "    \n",
    "    print(f'Epoch {epoch+1}/{epochs} | Train Loss: {train_loss:.4f}, Train Acc: {train_acc:.4f}, Val Loss: {val_loss:.4f}, Val Acc: {val_acc:.4f}')\n",
    "\n",
    "    # 조기종료 처리\n",
    "    if val_loss < best_val_loss:\n",
    "        best_val_loss = val_loss\n",
    "        early_stop_counter = 0\n",
    "    else:\n",
    "        early_stop_counter += 1\n",
    "        if early_stop_counter >= early_stopping_patience:\n",
    "            print(\"Early stopping!!!\")\n",
    "            break\n"
   ]
  },
  {
   "cell_type": "code",
   "execution_count": null,
   "id": "321b0929",
   "metadata": {},
   "outputs": [
    {
     "data": {
      "image/png": "[encoded data removed]",
      "text/plain": [
       "<Figure size 640x480 with 1 Axes>"
      ]
     },
     "metadata": {},
     "output_type": "display_data"
    }
   ],
   "source": [
    "train_history_df = pd.DataFrame({\n",
    "    'train_loss': train_losses, # 훈련 손실 기록\n",
    "    'val_loss': val_losses, # 검증 손실 기록\n",
    "    'train_acc': train_accs, #  훈련 정확도 기록\n",
    "    'val_acc': val_accs  # 검증 정확도 기록\n",
    "})\n",
    "\n",
    "train_history_df.plot(title=\"Training History\")\n",
    "plt.show()"
   ]
  },
  {
   "cell_type": "code",
   "execution_count": 43,
   "id": "4de0bd5f",
   "metadata": {},
   "outputs": [],
   "source": [
    "def evaluate_model(model, test_loader, criterion):\n",
    "    model.eval()  # 모델을 평가 모드로 설정 \n",
    "    val_loss, val_total, val_correct = 0, 0, 0  # 총 손실 및 정확도 초기화\n",
    "\n",
    "    with torch.no_grad():  # 기울기 계산 비활성화\n",
    "        for val_inputs, val_targets in test_loader:\n",
    "            val_outputs = model(val_inputs).squeeze()  # 모델에 입력 데이터 전달하여 출력 계산\n",
    "\n",
    "            loss = criterion(val_outputs, val_targets)  # 손실 계산 \n",
    "            val_loss += loss.item()\n",
    "\n",
    "            predicted = (val_outputs >= 0.5).float()  # 예측값 이진화\n",
    "            val_correct += (predicted == val_targets).sum().item()  # 정확한 예측 수 누적\n",
    "            val_total += val_targets.size(0)  # 전체 샘플 수 누적\n",
    "\n",
    "\n",
    "    test_loss = val_loss / len(test_loader)  # 평균 검증 손실 계산\n",
    "    test_acc = val_correct / val_total  # 검증 정확도 계산 \n",
    "    return test_loss, test_acc"
   ]
  },
  {
   "cell_type": "code",
   "execution_count": 44,
   "id": "7bec8051",
   "metadata": {},
   "outputs": [
    {
     "name": "stdout",
     "output_type": "stream",
     "text": [
      "Test Loss: 0.7679, Test Acc: 0.5004\n"
     ]
    }
   ],
   "source": [
    "test_dataset = TensorDataset(test_onehot, test_target)  # 테스트 데이터셋 생성\n",
    "test_loader = DataLoader(test_dataset, batch_size=BATCH_SIZE)  # 테스트 데이터 로더 생성\n",
    "\n",
    "test_loss, test_acc = evaluate_model(model, test_loader, criterion)\n",
    "print(f'Test Loss: {test_loss:.4f}, Test Acc: {test_acc:.4f}')"
   ]
  }
 ],
 "metadata": {
  "language_info": {
   "name": "python"
  }
 },
 "nbformat": 4,
 "nbformat_minor": 5
}
