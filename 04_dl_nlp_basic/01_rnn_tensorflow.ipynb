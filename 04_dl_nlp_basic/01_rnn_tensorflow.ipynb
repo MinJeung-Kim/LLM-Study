{
 "cells": [
  {
   "cell_type": "markdown",
   "id": "4fcc59ef",
   "metadata": {},
   "source": [
    "## RNN (by Tensorflow)"
   ]
  },
  {
   "cell_type": "code",
   "execution_count": 1,
   "id": "3bcfa9bf",
   "metadata": {},
   "outputs": [],
   "source": [
    "# 사용할 상수 정의 \n",
    "\n",
    "VOCAB_SIZE = 300  # 어휘 사전의 크기(사용할 단어 수)\n",
    "SEQ_LENGTH = 100  # 시퀀스 하나의 최대 길이"
   ]
  },
  {
   "cell_type": "markdown",
   "id": "d60cf9a4",
   "metadata": {},
   "source": [
    "### 데이터 준비"
   ]
  },
  {
   "cell_type": "code",
   "execution_count": 2,
   "id": "671bad8f",
   "metadata": {},
   "outputs": [],
   "source": [
    "from tensorflow.keras.datasets import imdb \n",
    "\n",
    "# imdb : 인터넷 영화 데이터베이스\n",
    "# 각 데이터는 (리뷰 내용, 리뷰 레이블)로 구성\n",
    "# 긍정/부정 리뷰 데이터셋 제공\n",
    "# 레이블 : 0(부정), 1(긍정)\n",
    "# 훈련 데이터 25,000개, 테스트 데이터 25,000개로 구성\n",
    "# 데이터는 이미 정수 인코딩(단어를 정수로 변환)되어 있음\n",
    "# 데이터셋은 keras.datasets.imdb 모듈에서 제공\n",
    "# 튜플의 형태로 (훈련 데이터, 테스트 데이터) 제공\n",
    "\n",
    "# load_data() : imdb 데이터셋을 불러오는 함수\n",
    "#     - num_words : 자주 등장하는 단어 순서대로 몇 개의 단어를 사용할지 지정\n",
    "(train_input, train_target), (test_input, test_target) = imdb.load_data(num_words=VOCAB_SIZE)\n",
    "  \n"
   ]
  },
  {
   "cell_type": "code",
   "execution_count": 3,
   "id": "1caa9a68",
   "metadata": {},
   "outputs": [],
   "source": [
    "train_input, test_input = train_input[:10000], test_input[:5000]\n",
    "train_target, test_target = train_target[:10000], test_target[:5000]"
   ]
  },
  {
   "cell_type": "code",
   "execution_count": 4,
   "id": "16c49f31",
   "metadata": {},
   "outputs": [
    {
     "data": {
      "text/plain": [
       "(218, 189)"
      ]
     },
     "execution_count": 4,
     "metadata": {},
     "output_type": "execute_result"
    }
   ],
   "source": [
    "len(train_input[0]), len(train_input[1])"
   ]
  },
  {
   "cell_type": "code",
   "execution_count": 5,
   "id": "d5af22f1",
   "metadata": {},
   "outputs": [
    {
     "data": {
      "text/plain": [
       "((10000, 100), (5000, 100))"
      ]
     },
     "execution_count": 5,
     "metadata": {},
     "output_type": "execute_result"
    }
   ],
   "source": [
    "from tensorflow.keras.preprocessing.sequence import pad_sequences\n",
    "\n",
    "# 시퀀스 길이 맞추기 => 왜? RNN 모델에 입력하려면 시퀀스 길이가 같아야 하기 때문\n",
    "train_seq = pad_sequences(train_input, maxlen=SEQ_LENGTH)\n",
    "test_seq = pad_sequences(test_input, maxlen=SEQ_LENGTH)\n",
    "\n",
    "train_seq.shape, test_seq.shape"
   ]
  },
  {
   "cell_type": "code",
   "execution_count": 6,
   "id": "b08b62fa",
   "metadata": {},
   "outputs": [
    {
     "data": {
      "text/plain": [
       "((10000, 100, 300), (5000, 100, 300))"
      ]
     },
     "execution_count": 6,
     "metadata": {},
     "output_type": "execute_result"
    }
   ],
   "source": [
    "# 원핫 인코딩 => 희소 행렬로 변환 => RNN 모델에 입력하려면 단어를 원핫 인코딩된 벡터로 변환해야 하기 때문\n",
    "from tensorflow.keras.utils import to_categorical\n",
    "\n",
    "train_onehot = to_categorical(train_seq)\n",
    "test_onehot = to_categorical(test_seq)\n",
    "\n",
    "train_onehot.shape, test_onehot.shape\n"
   ]
  },
  {
   "cell_type": "markdown",
   "id": "77331496",
   "metadata": {},
   "source": [
    "### 모델 준비 및 학습"
   ]
  },
  {
   "cell_type": "code",
   "execution_count": 7,
   "id": "ddf1d5f2",
   "metadata": {},
   "outputs": [
    {
     "data": {
      "text/html": [
       "<pre style=\"white-space:pre;overflow-x:auto;line-height:normal;font-family:Menlo,'DejaVu Sans Mono',consolas,'Courier New',monospace\"><span style=\"font-weight: bold\">Model: \"functional\"</span>\n",
       "</pre>\n"
      ],
      "text/plain": [
       "\u001b[1mModel: \"functional\"\u001b[0m\n"
      ]
     },
     "metadata": {},
     "output_type": "display_data"
    },
    {
     "data": {
      "text/html": [
       "<pre style=\"white-space:pre;overflow-x:auto;line-height:normal;font-family:Menlo,'DejaVu Sans Mono',consolas,'Courier New',monospace\">┏━━━━━━━━━━━━━━━━━━━━━━━━━━━━━━━━━┳━━━━━━━━━━━━━━━━━━━━━━━━┳━━━━━━━━━━━━━━━┓\n",
       "┃<span style=\"font-weight: bold\"> Layer (type)                    </span>┃<span style=\"font-weight: bold\"> Output Shape           </span>┃<span style=\"font-weight: bold\">       Param # </span>┃\n",
       "┡━━━━━━━━━━━━━━━━━━━━━━━━━━━━━━━━━╇━━━━━━━━━━━━━━━━━━━━━━━━╇━━━━━━━━━━━━━━━┩\n",
       "│ input_layer (<span style=\"color: #0087ff; text-decoration-color: #0087ff\">InputLayer</span>)        │ (<span style=\"color: #00d7ff; text-decoration-color: #00d7ff\">None</span>, <span style=\"color: #00af00; text-decoration-color: #00af00\">100</span>, <span style=\"color: #00af00; text-decoration-color: #00af00\">300</span>)       │             <span style=\"color: #00af00; text-decoration-color: #00af00\">0</span> │\n",
       "├─────────────────────────────────┼────────────────────────┼───────────────┤\n",
       "│ simple_rnn (<span style=\"color: #0087ff; text-decoration-color: #0087ff\">SimpleRNN</span>)          │ (<span style=\"color: #00d7ff; text-decoration-color: #00d7ff\">None</span>, <span style=\"color: #00af00; text-decoration-color: #00af00\">8</span>)              │         <span style=\"color: #00af00; text-decoration-color: #00af00\">2,472</span> │\n",
       "├─────────────────────────────────┼────────────────────────┼───────────────┤\n",
       "│ dense (<span style=\"color: #0087ff; text-decoration-color: #0087ff\">Dense</span>)                   │ (<span style=\"color: #00d7ff; text-decoration-color: #00d7ff\">None</span>, <span style=\"color: #00af00; text-decoration-color: #00af00\">1</span>)              │             <span style=\"color: #00af00; text-decoration-color: #00af00\">9</span> │\n",
       "└─────────────────────────────────┴────────────────────────┴───────────────┘\n",
       "</pre>\n"
      ],
      "text/plain": [
       "┏━━━━━━━━━━━━━━━━━━━━━━━━━━━━━━━━━┳━━━━━━━━━━━━━━━━━━━━━━━━┳━━━━━━━━━━━━━━━┓\n",
       "┃\u001b[1m \u001b[0m\u001b[1mLayer (type)                   \u001b[0m\u001b[1m \u001b[0m┃\u001b[1m \u001b[0m\u001b[1mOutput Shape          \u001b[0m\u001b[1m \u001b[0m┃\u001b[1m \u001b[0m\u001b[1m      Param #\u001b[0m\u001b[1m \u001b[0m┃\n",
       "┡━━━━━━━━━━━━━━━━━━━━━━━━━━━━━━━━━╇━━━━━━━━━━━━━━━━━━━━━━━━╇━━━━━━━━━━━━━━━┩\n",
       "│ input_layer (\u001b[38;5;33mInputLayer\u001b[0m)        │ (\u001b[38;5;45mNone\u001b[0m, \u001b[38;5;34m100\u001b[0m, \u001b[38;5;34m300\u001b[0m)       │             \u001b[38;5;34m0\u001b[0m │\n",
       "├─────────────────────────────────┼────────────────────────┼───────────────┤\n",
       "│ simple_rnn (\u001b[38;5;33mSimpleRNN\u001b[0m)          │ (\u001b[38;5;45mNone\u001b[0m, \u001b[38;5;34m8\u001b[0m)              │         \u001b[38;5;34m2,472\u001b[0m │\n",
       "├─────────────────────────────────┼────────────────────────┼───────────────┤\n",
       "│ dense (\u001b[38;5;33mDense\u001b[0m)                   │ (\u001b[38;5;45mNone\u001b[0m, \u001b[38;5;34m1\u001b[0m)              │             \u001b[38;5;34m9\u001b[0m │\n",
       "└─────────────────────────────────┴────────────────────────┴───────────────┘\n"
      ]
     },
     "metadata": {},
     "output_type": "display_data"
    },
    {
     "data": {
      "text/html": [
       "<pre style=\"white-space:pre;overflow-x:auto;line-height:normal;font-family:Menlo,'DejaVu Sans Mono',consolas,'Courier New',monospace\"><span style=\"font-weight: bold\"> Total params: </span><span style=\"color: #00af00; text-decoration-color: #00af00\">2,481</span> (9.69 KB)\n",
       "</pre>\n"
      ],
      "text/plain": [
       "\u001b[1m Total params: \u001b[0m\u001b[38;5;34m2,481\u001b[0m (9.69 KB)\n"
      ]
     },
     "metadata": {},
     "output_type": "display_data"
    },
    {
     "data": {
      "text/html": [
       "<pre style=\"white-space:pre;overflow-x:auto;line-height:normal;font-family:Menlo,'DejaVu Sans Mono',consolas,'Courier New',monospace\"><span style=\"font-weight: bold\"> Trainable params: </span><span style=\"color: #00af00; text-decoration-color: #00af00\">2,481</span> (9.69 KB)\n",
       "</pre>\n"
      ],
      "text/plain": [
       "\u001b[1m Trainable params: \u001b[0m\u001b[38;5;34m2,481\u001b[0m (9.69 KB)\n"
      ]
     },
     "metadata": {},
     "output_type": "display_data"
    },
    {
     "data": {
      "text/html": [
       "<pre style=\"white-space:pre;overflow-x:auto;line-height:normal;font-family:Menlo,'DejaVu Sans Mono',consolas,'Courier New',monospace\"><span style=\"font-weight: bold\"> Non-trainable params: </span><span style=\"color: #00af00; text-decoration-color: #00af00\">0</span> (0.00 B)\n",
       "</pre>\n"
      ],
      "text/plain": [
       "\u001b[1m Non-trainable params: \u001b[0m\u001b[38;5;34m0\u001b[0m (0.00 B)\n"
      ]
     },
     "metadata": {},
     "output_type": "display_data"
    }
   ],
   "source": [
    "from tensorflow.keras import models, layers, callbacks, optimizers\n",
    "\n",
    "# layers.Input : 모델의 입력층을 정의하는 클래스\n",
    "#     - shape : 입력 데이터의 형태 지정\n",
    "#        (SEQ_LENGTH, VOCAB_SIZE) : 시퀀스 길이, 원핫 벡터 크기 \n",
    "# 모델의 출력 값을 0과 1 사이로 변환\n",
    "# 모델의 출력이 특정 클래스(긍정 또는 부정)에 속할 확률을 나타냄\n",
    "input = layers.Input(shape=(SEQ_LENGTH, VOCAB_SIZE))  \n",
    "\n",
    "# layers.SimpleRNN : RNN 층을 만드는 클래스\n",
    "#     - units : RNN 층의 뉴런 개수(출력 차원)\n",
    "x = layers.SimpleRNN(units=8)(input)\n",
    "\n",
    "# layers.Dense : 출력층을 만드는 클래스\n",
    "#    - activation : 활성화 함수 지정\n",
    "#       'sigmoid' : 이진 분류에서 주로 사용되는 활성화 함수\n",
    "output = layers.Dense(1, activation='sigmoid')(x)\n",
    "\n",
    "# 모델 생성\n",
    "# 입력층, RNN 층, 출력층을 연결하여 모델을 생성\n",
    "model = models.Model(inputs=input, outputs=output)\n",
    "model.summary() # 모델 구조 출력 \n",
    "\n",
    "# [결과 해설]\n",
    "# 300개의 단어로 구성된 시퀀스를 입력으로 받아 8개의 뉴런을 가진 RNN 층을 통과시킨 후,\n",
    "# 마지막으로 시그모이드 활성화 함수를 사용하여 이진 분류를 수행\n",
    "# 모델의 총 파라미터 수는 2,472개\n",
    "# 300 * 8 (입력 가중치 = 은닉층) + 8 * 8 (재귀 가중치) + 8 (편향) = 2,472\n"
   ]
  },
  {
   "cell_type": "code",
   "execution_count": 8,
   "id": "b90cb0cc",
   "metadata": {},
   "outputs": [
    {
     "name": "stdout",
     "output_type": "stream",
     "text": [
      "Epoch 1/100\n",
      "\u001b[1m124/124\u001b[0m \u001b[32m━━━━━━━━━━━━━━━━━━━━\u001b[0m\u001b[37m\u001b[0m \u001b[1m3s\u001b[0m 14ms/step - accuracy: 0.5242 - loss: 0.6948 - val_accuracy: 0.5755 - val_loss: 0.6768 - learning_rate: 0.0010\n",
      "Epoch 2/100\n",
      "\u001b[1m124/124\u001b[0m \u001b[32m━━━━━━━━━━━━━━━━━━━━\u001b[0m\u001b[37m\u001b[0m \u001b[1m1s\u001b[0m 10ms/step - accuracy: 0.6386 - loss: 0.6492 - val_accuracy: 0.6925 - val_loss: 0.6244 - learning_rate: 0.0010\n",
      "Epoch 3/100\n",
      "\u001b[1m124/124\u001b[0m \u001b[32m━━━━━━━━━━━━━━━━━━━━\u001b[0m\u001b[37m\u001b[0m \u001b[1m1s\u001b[0m 10ms/step - accuracy: 0.7113 - loss: 0.5960 - val_accuracy: 0.7240 - val_loss: 0.5795 - learning_rate: 0.0010\n",
      "Epoch 4/100\n",
      "\u001b[1m124/124\u001b[0m \u001b[32m━━━━━━━━━━━━━━━━━━━━\u001b[0m\u001b[37m\u001b[0m \u001b[1m1s\u001b[0m 10ms/step - accuracy: 0.7334 - loss: 0.5575 - val_accuracy: 0.7400 - val_loss: 0.5569 - learning_rate: 0.0010\n",
      "Epoch 5/100\n",
      "\u001b[1m124/124\u001b[0m \u001b[32m━━━━━━━━━━━━━━━━━━━━\u001b[0m\u001b[37m\u001b[0m \u001b[1m1s\u001b[0m 10ms/step - accuracy: 0.7492 - loss: 0.5332 - val_accuracy: 0.7435 - val_loss: 0.5384 - learning_rate: 0.0010\n",
      "Epoch 6/100\n",
      "\u001b[1m124/124\u001b[0m \u001b[32m━━━━━━━━━━━━━━━━━━━━\u001b[0m\u001b[37m\u001b[0m \u001b[1m1s\u001b[0m 9ms/step - accuracy: 0.7581 - loss: 0.5199 - val_accuracy: 0.7425 - val_loss: 0.5382 - learning_rate: 0.0010\n",
      "Epoch 7/100\n",
      "\u001b[1m124/124\u001b[0m \u001b[32m━━━━━━━━━━━━━━━━━━━━\u001b[0m\u001b[37m\u001b[0m \u001b[1m1s\u001b[0m 10ms/step - accuracy: 0.7661 - loss: 0.5079 - val_accuracy: 0.7265 - val_loss: 0.5416 - learning_rate: 0.0010\n",
      "Epoch 8/100\n",
      "\u001b[1m124/124\u001b[0m \u001b[32m━━━━━━━━━━━━━━━━━━━━\u001b[0m\u001b[37m\u001b[0m \u001b[1m1s\u001b[0m 10ms/step - accuracy: 0.7699 - loss: 0.5031 - val_accuracy: 0.7295 - val_loss: 0.5331 - learning_rate: 0.0010\n",
      "Epoch 9/100\n",
      "\u001b[1m124/124\u001b[0m \u001b[32m━━━━━━━━━━━━━━━━━━━━\u001b[0m\u001b[37m\u001b[0m \u001b[1m1s\u001b[0m 10ms/step - accuracy: 0.7809 - loss: 0.4818 - val_accuracy: 0.7420 - val_loss: 0.5340 - learning_rate: 0.0010\n",
      "Epoch 10/100\n",
      "\u001b[1m124/124\u001b[0m \u001b[32m━━━━━━━━━━━━━━━━━━━━\u001b[0m\u001b[37m\u001b[0m \u001b[1m1s\u001b[0m 10ms/step - accuracy: 0.7912 - loss: 0.4723 - val_accuracy: 0.7415 - val_loss: 0.5423 - learning_rate: 0.0010\n",
      "Epoch 11/100\n",
      "\u001b[1m124/124\u001b[0m \u001b[32m━━━━━━━━━━━━━━━━━━━━\u001b[0m\u001b[37m\u001b[0m \u001b[1m1s\u001b[0m 9ms/step - accuracy: 0.7878 - loss: 0.4711 - val_accuracy: 0.7500 - val_loss: 0.5291 - learning_rate: 0.0010\n",
      "Epoch 12/100\n",
      "\u001b[1m124/124\u001b[0m \u001b[32m━━━━━━━━━━━━━━━━━━━━\u001b[0m\u001b[37m\u001b[0m \u001b[1m1s\u001b[0m 9ms/step - accuracy: 0.7874 - loss: 0.4719 - val_accuracy: 0.7435 - val_loss: 0.5361 - learning_rate: 0.0010\n",
      "Epoch 13/100\n",
      "\u001b[1m124/124\u001b[0m \u001b[32m━━━━━━━━━━━━━━━━━━━━\u001b[0m\u001b[37m\u001b[0m \u001b[1m1s\u001b[0m 10ms/step - accuracy: 0.7899 - loss: 0.4638 - val_accuracy: 0.7325 - val_loss: 0.5536 - learning_rate: 0.0010\n",
      "Epoch 14/100\n",
      "\u001b[1m122/124\u001b[0m \u001b[32m━━━━━━━━━━━━━━━━━━━\u001b[0m\u001b[37m━\u001b[0m \u001b[1m0s\u001b[0m 8ms/step - accuracy: 0.8030 - loss: 0.4469\n",
      "Epoch 14: ReduceLROnPlateau reducing learning rate to 0.0007000000332482159.\n",
      "\u001b[1m124/124\u001b[0m \u001b[32m━━━━━━━━━━━━━━━━━━━━\u001b[0m\u001b[37m\u001b[0m \u001b[1m1s\u001b[0m 10ms/step - accuracy: 0.8044 - loss: 0.4466 - val_accuracy: 0.7340 - val_loss: 0.5429 - learning_rate: 0.0010\n",
      "Epoch 15/100\n",
      "\u001b[1m124/124\u001b[0m \u001b[32m━━━━━━━━━━━━━━━━━━━━\u001b[0m\u001b[37m\u001b[0m \u001b[1m1s\u001b[0m 10ms/step - accuracy: 0.8116 - loss: 0.4360 - val_accuracy: 0.7325 - val_loss: 0.5522 - learning_rate: 7.0000e-04\n",
      "Epoch 16/100\n",
      "\u001b[1m124/124\u001b[0m \u001b[32m━━━━━━━━━━━━━━━━━━━━\u001b[0m\u001b[37m\u001b[0m \u001b[1m1s\u001b[0m 10ms/step - accuracy: 0.8142 - loss: 0.4290 - val_accuracy: 0.7425 - val_loss: 0.5526 - learning_rate: 7.0000e-04\n",
      "Epoch 17/100\n",
      "\u001b[1m123/124\u001b[0m \u001b[32m━━━━━━━━━━━━━━━━━━━\u001b[0m\u001b[37m━\u001b[0m \u001b[1m0s\u001b[0m 8ms/step - accuracy: 0.8120 - loss: 0.4239\n",
      "Epoch 17: ReduceLROnPlateau reducing learning rate to 0.0004900000232737511.\n",
      "\u001b[1m124/124\u001b[0m \u001b[32m━━━━━━━━━━━━━━━━━━━━\u001b[0m\u001b[37m\u001b[0m \u001b[1m1s\u001b[0m 9ms/step - accuracy: 0.8174 - loss: 0.4235 - val_accuracy: 0.7345 - val_loss: 0.5491 - learning_rate: 7.0000e-04\n",
      "Epoch 18/100\n",
      "\u001b[1m124/124\u001b[0m \u001b[32m━━━━━━━━━━━━━━━━━━━━\u001b[0m\u001b[37m\u001b[0m \u001b[1m1s\u001b[0m 10ms/step - accuracy: 0.8215 - loss: 0.4184 - val_accuracy: 0.7390 - val_loss: 0.5531 - learning_rate: 4.9000e-04\n",
      "Epoch 18: early stopping\n",
      "Restoring model weights from the end of the best epoch: 11.\n"
     ]
    },
    {
     "data": {
      "image/png": "[encoded data removed]",
      "text/plain": [
       "<Figure size 640x480 with 1 Axes>"
      ]
     },
     "metadata": {},
     "output_type": "display_data"
    }
   ],
   "source": [
    "import pandas as pd\n",
    "import matplotlib.pyplot as plt\n",
    "\n",
    "model.compile(\n",
    "    loss='binary_crossentropy', # 이진 분류 문제에서 주로 사용되는 손실 함수\n",
    "    optimizer='adam', # Adam 옵티마이저 사용\n",
    "    metrics=['accuracy'] # 모델 평가에 사용할 지표로 정확도 선택\n",
    "    )\n",
    "\n",
    "# 조기 종료 콜백 설정\n",
    "early_stopping = callbacks.EarlyStopping(\n",
    "    verbose=1, # 훈련 중단 시 메시지 출력\n",
    "    patience=7, # 7 에포크 동안 개선이 없으면 훈련 중단\n",
    "    restore_best_weights=True # 가장 좋은 가중치 복원\n",
    ")\n",
    "\n",
    "reduce_lr_on_plateau_cb = callbacks.ReduceLROnPlateau( \n",
    "    factor=0.7, # 학습률 감소 비율\n",
    "    patience=3, # 3 에포크 동안 개선이 없으면 학습률 감소\n",
    "    verbose=1 # 학습률 감소 시 메시지 출력\n",
    ")\n",
    "\n",
    "history = model.fit(\n",
    "    train_onehot, # 훈련 입력 데이터\n",
    "    train_target, # 훈련 레이블\n",
    "    epochs=100, # 에포크 수\n",
    "    batch_size=65, # 배치 크기\n",
    "    validation_split=0.2, # 검증 데이터 비율\n",
    "    callbacks=[early_stopping, reduce_lr_on_plateau_cb] # 콜백 함수 목록\n",
    ")   \n",
    "\n",
    "history_df = pd.DataFrame(history.history)\n",
    "history_df.plot()\n",
    "plt.show()"
   ]
  },
  {
   "cell_type": "code",
   "execution_count": 9,
   "id": "33102441",
   "metadata": {},
   "outputs": [
    {
     "name": "stdout",
     "output_type": "stream",
     "text": [
      "\u001b[1m157/157\u001b[0m \u001b[32m━━━━━━━━━━━━━━━━━━━━\u001b[0m\u001b[37m\u001b[0m \u001b[1m1s\u001b[0m 4ms/step - accuracy: 0.7368 - loss: 0.5567\n"
     ]
    },
    {
     "data": {
      "text/plain": [
       "(0.5566558241844177, 0.7368000149726868)"
      ]
     },
     "execution_count": 9,
     "metadata": {},
     "output_type": "execute_result"
    }
   ],
   "source": [
    "loss, accuracy = model.evaluate(test_onehot, test_target)\n",
    "loss, accuracy\n",
    "\n",
    "# [ 결론 ]\n",
    "# tensorflow라는 구조를 사용해서 RNN 모델을 구현하고 학습시켰다."
   ]
  }
 ],
 "metadata": {
  "kernelspec": {
   "display_name": "Python 3",
   "language": "python",
   "name": "python3"
  },
  "language_info": {
   "codemirror_mode": {
    "name": "ipython",
    "version": 3
   },
   "file_extension": ".py",
   "mimetype": "text/x-python",
   "name": "python",
   "nbconvert_exporter": "python",
   "pygments_lexer": "ipython3",
   "version": "3.13.7"
  }
 },
 "nbformat": 4,
 "nbformat_minor": 5
}
