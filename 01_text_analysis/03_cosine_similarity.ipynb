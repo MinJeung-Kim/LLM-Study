{
 "cells": [
  {
   "cell_type": "markdown",
   "id": "f25ceed3",
   "metadata": {},
   "source": [
    "## 코사인 유사도 (Cosine similarity)\n",
    "- 문장간의 유사도를 벡터화 시킬 수 있음."
   ]
  },
  {
   "cell_type": "code",
   "execution_count": 1,
   "id": "7e514a6e",
   "metadata": {},
   "outputs": [],
   "source": [
    "from sklearn.feature_extraction.text import TfidfVectorizer\n",
    "from sklearn.metrics.pairwise import cosine_similarity"
   ]
  },
  {
   "cell_type": "code",
   "execution_count": 2,
   "id": "17526206",
   "metadata": {},
   "outputs": [],
   "source": [
    "doc_list = [\n",
    "    'if you take the blue pill, the story ends' ,\n",
    "    'if you take the red pill, you stay in Wonderland',\n",
    "    'if you take the red pill, I show you how deep the rabbit hole goes'\n",
    "]"
   ]
  },
  {
   "cell_type": "code",
   "execution_count": null,
   "id": "43346bfb",
   "metadata": {},
   "outputs": [
    {
     "name": "stdout",
     "output_type": "stream",
     "text": [
      "(3, 18)\n",
      "[('blue', 0), ('deep', 1), ('ends', 2), ('goes', 3), ('hole', 4), ('how', 5), ('if', 6), ('in', 7), ('pill', 8), ('rabbit', 9), ('red', 10), ('show', 11), ('stay', 12), ('story', 13), ('take', 14), ('the', 15), ('wonderland', 16), ('you', 17)]\n",
      "[[1.         0.40207758 0.40425045]]\n"
     ]
    }
   ],
   "source": [
    "tfidf_vectorizer = TfidfVectorizer()\n",
    "doc_vecs = tfidf_vectorizer.fit_transform(doc_list)\n",
    "print(doc_vecs.shape) # (3, 18) : 3개의 문서 , 18개의 피처(단어)\n",
    "print(sorted(tfidf_vectorizer.vocabulary_.items(), key=lambda x: x[1])) # 단어 사전 (피처명과 인덱스 매핑)\n",
    "\n",
    "\n",
    "# 코사인 유사도 계산\n",
    "doc_arr = doc_vecs.toarray() # 벡터의 방향과 크기를 가지고 연산하기 위해 배열로 변환\n",
    "cosine_sim = cosine_similarity(doc_arr[0:1], doc_arr)  \n",
    "print(cosine_sim)\n",
    "# [[1.         0.40207758   0.40425045]]\n",
    "# 첫번째 문서(자기 자신)와 나머지 문서들 간의 코사인 유사도"
   ]
  }
 ],
 "metadata": {
  "kernelspec": {
   "display_name": "Python 3",
   "language": "python",
   "name": "python3"
  },
  "language_info": {
   "codemirror_mode": {
    "name": "ipython",
    "version": 3
   },
   "file_extension": ".py",
   "mimetype": "text/x-python",
   "name": "python",
   "nbconvert_exporter": "python",
   "pygments_lexer": "ipython3",
   "version": "3.13.7"
  }
 },
 "nbformat": 4,
 "nbformat_minor": 5
}
