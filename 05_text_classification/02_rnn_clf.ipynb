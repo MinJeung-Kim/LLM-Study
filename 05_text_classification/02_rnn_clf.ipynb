{
 "cells": [
  {
   "cell_type": "markdown",
   "id": "de379077",
   "metadata": {},
   "source": [
    "# RNN 텍스트 분류기"
   ]
  },
  {
   "cell_type": "code",
   "execution_count": 73,
   "id": "dbf3d899",
   "metadata": {},
   "outputs": [],
   "source": [
    "corpus = [\n",
    "    \"자연어 처리는 재미있다\",\n",
    "    \"Python이 자연어 처리보다 쉽다\",\n",
    "    \"자연어 처리 공부는 어렵다\",\n",
    "    \"Python 활용법을 더 즐겁게 찾아보자\"\n",
    "]\n",
    "labels = [1, 0, 0, 1]"
   ]
  },
  {
   "cell_type": "code",
   "execution_count": 74,
   "id": "24a02fd9",
   "metadata": {},
   "outputs": [],
   "source": [
    "# 토큰화\n",
    "tokenized_corpus = [sentence.split() for sentence in corpus]\n",
    "\n",
    "# 단어 사전\n",
    "vocab = {}\n",
    "for tokens in tokenized_corpus:\n",
    "    for token in tokens:\n",
    "        if token not in vocab:\n",
    "            vocab[token] = len(vocab) + 1\n",
    "\n",
    "# 문장 인덱싱\n",
    "indexed_corpus = []\n",
    "for tokens in tokenized_corpus:\n",
    "    indexed_sent = [vocab[token] for token in tokens]\n",
    "    indexed_corpus.append(indexed_sent)\n",
    "\n",
    "# 패딩 처리\n",
    "max_seq_len = max(len(seq) for seq in indexed_corpus)\n",
    "def pad_sequences(seq, max_len):\n",
    "    if len(seq) < max_len:\n",
    "        seq = seq + [0] * (max_len - len(seq))\n",
    "    return seq\n",
    "padded_corpus = [pad_sequences(seq, max_seq_len) for seq in indexed_corpus]"
   ]
  },
  {
   "cell_type": "code",
   "execution_count": 75,
   "id": "8aec34ff",
   "metadata": {},
   "outputs": [],
   "source": [
    "import torch\n",
    "\n",
    "inputs = torch.tensor(padded_corpus, dtype=torch.long)\n",
    "labels = torch.tensor(labels, dtype=torch.float32).unsqueeze(1)"
   ]
  },
  {
   "cell_type": "code",
   "execution_count": 76,
   "id": "cca24f2b",
   "metadata": {},
   "outputs": [],
   "source": [
    "# RNN 기반 텍스트 분류기 모델 정의\n",
    "import torch.nn as nn\n",
    "\n",
    "class RNNClassifier(nn.Module):\n",
    "    def __init__(self, vocab_size, embed_size, hidden_size, num_classes):\n",
    "        super(RNNClassifier, self).__init__()\n",
    "        self.embedding = nn.Embedding(vocab_size, embed_size)\n",
    "        self.rnn = nn.RNN(embed_size, hidden_size, batch_first=True)\n",
    "        self.fc = nn.Linear(hidden_size, num_classes)\n",
    "        self.sigmoid = nn.Sigmoid()\n",
    "\n",
    "    def forward(self, x):\n",
    "        x = self.embedding(x)\n",
    "        output, hidden = self.rnn(x)\n",
    "        return self.sigmoid(self.fc(hidden[-1]))"
   ]
  },
  {
   "cell_type": "code",
   "execution_count": 77,
   "id": "193f2ef1",
   "metadata": {},
   "outputs": [
    {
     "name": "stdout",
     "output_type": "stream",
     "text": [
      "RNNClassifier(\n",
      "  (embedding): Embedding(15, 128)\n",
      "  (rnn): RNN(128, 64, batch_first=True)\n",
      "  (fc): Linear(in_features=64, out_features=1, bias=True)\n",
      "  (sigmoid): Sigmoid()\n",
      ")\n"
     ]
    }
   ],
   "source": [
    "VOCAB_SIZE = len(vocab) + 1\n",
    "EMBED_SIZE = 128\n",
    "HIDDEN_SIZE = 64\n",
    "NUM_CLASSES = 1\n",
    "\n",
    "model = RNNClassifier(\n",
    "    vocab_size=VOCAB_SIZE,\n",
    "    embed_size=EMBED_SIZE,\n",
    "    hidden_size=HIDDEN_SIZE,\n",
    "    num_classes=NUM_CLASSES\n",
    ")\n",
    "\n",
    "print(model)"
   ]
  },
  {
   "cell_type": "code",
   "execution_count": 78,
   "id": "4b74df1f",
   "metadata": {},
   "outputs": [
    {
     "name": "stdout",
     "output_type": "stream",
     "text": [
      "Epoch 1/20 | Loss == 0.6996\n",
      "Epoch 2/20 | Loss == 0.3516\n",
      "Epoch 3/20 | Loss == 0.1673\n",
      "Epoch 4/20 | Loss == 0.0863\n",
      "Epoch 5/20 | Loss == 0.0438\n",
      "Epoch 6/20 | Loss == 0.0258\n",
      "Epoch 7/20 | Loss == 0.0169\n",
      "Epoch 8/20 | Loss == 0.0120\n",
      "Epoch 9/20 | Loss == 0.0090\n",
      "Epoch 10/20 | Loss == 0.0070\n",
      "Epoch 11/20 | Loss == 0.0056\n",
      "Epoch 12/20 | Loss == 0.0045\n",
      "Epoch 13/20 | Loss == 0.0038\n",
      "Epoch 14/20 | Loss == 0.0032\n",
      "Epoch 15/20 | Loss == 0.0027\n",
      "Epoch 16/20 | Loss == 0.0023\n",
      "Epoch 17/20 | Loss == 0.0020\n",
      "Epoch 18/20 | Loss == 0.0018\n",
      "Epoch 19/20 | Loss == 0.0016\n",
      "Epoch 20/20 | Loss == 0.0014\n"
     ]
    }
   ],
   "source": [
    "import torch.optim as optim\n",
    "\n",
    "# 학습\n",
    "criterion = nn.BCELoss()\n",
    "optimizer = optim.Adam(model.parameters(), lr=0.01)\n",
    "epochs = 20\n",
    "\n",
    "for epoch in range(epochs):\n",
    "    model.train()\n",
    "    optimizer.zero_grad()\n",
    "    outputs = model(inputs)\n",
    "    loss = criterion(outputs, labels)\n",
    "    loss.backward()\n",
    "    optimizer.step()\n",
    "    print(f'Epoch {epoch+1}/{epochs} | Loss == {loss.item():.4f}')"
   ]
  },
  {
   "cell_type": "code",
   "execution_count": null,
   "id": "57c27437",
   "metadata": {},
   "outputs": [],
   "source": [
    "test_text = [\n",
    "    \"자연어 처리는 재미있다\",\n",
    "    \"Python는 어렵다\"\n",
    "]\n",
    "\n",
    "def preprocessed_sentence(sentence, vocab, max_len):\n",
    "    tokens = sentence.split()\n",
    "    indices = [vocab.get(token, 0) for token in tokens]\n",
    "    indices = pad_sequences(indices, max_len)\n",
    "    return torch.tensor(indices, dtype=torch.long)\n",
    "\n",
    "test_inputs = []\n",
    "for sent in test_text:\n",
    "    test_inputs.append(preprocessed_sentence(sent, vocab, max_seq_len))\n",
    "\n",
    "test_inputs = torch.stack(test_inputs)"
   ]
  },
  {
   "cell_type": "code",
   "execution_count": 80,
   "id": "603de0e3",
   "metadata": {},
   "outputs": [
    {
     "name": "stdout",
     "output_type": "stream",
     "text": [
      "tensor([[0.9980],\n",
      "        [0.3725]])\n"
     ]
    }
   ],
   "source": [
    "model.eval()\n",
    "with torch.no_grad():\n",
    "    outputs = model(test_inputs)\n",
    "    print(outputs)"
   ]
  }
 ],
 "metadata": {
  "kernelspec": {
   "display_name": "ml_env",
   "language": "python",
   "name": "python3"
  },
  "language_info": {
   "codemirror_mode": {
    "name": "ipython",
    "version": 3
   },
   "file_extension": ".py",
   "mimetype": "text/x-python",
   "name": "python",
   "nbconvert_exporter": "python",
   "pygments_lexer": "ipython3",
   "version": "3.12.11"
  }
 },
 "nbformat": 4,
 "nbformat_minor": 5
}
