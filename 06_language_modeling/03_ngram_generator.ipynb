{
 "cells": [
  {
   "cell_type": "markdown",
   "id": "928dee92",
   "metadata": {},
   "source": [
    "## ngram 기반의 간단한 텍스트 생성기"
   ]
  },
  {
   "cell_type": "code",
   "execution_count": 2,
   "id": "7bf490ef",
   "metadata": {},
   "outputs": [],
   "source": [
    "import nltk\n",
    "from nltk.util import ngrams   \n",
    "from collections import Counter\n",
    "import random"
   ]
  },
  {
   "cell_type": "code",
   "execution_count": 7,
   "id": "daec9027",
   "metadata": {},
   "outputs": [],
   "source": [
    "def generate_text_bigram(seed, unigram_freq, bigram_freq, max_length=10):\n",
    "    current_word = seed # 시드 단어로 시작 (초기 단어 설정)\n",
    "    generated = [current_word]  # 생성된 단어들을 저장할 리스트\n",
    "    \n",
    "    for _ in range(max_length - 1):\n",
    "        # 현재 단어로 시작하는 모든 bigram 후보 찾기 (첫 단어가 current_word인 bigram)\n",
    "        candidates = [(bigram, freq) for (bigram, freq) in bigram_freq.items() if bigram[0] == current_word]\n",
    "\n",
    "        if not candidates:\n",
    "            break  # 더 이상 이어갈 단어가 없으면 종료\n",
    "        \n",
    "        # 후보 단어와 그 빈도수 분리 (단어와 빈도수 리스트 생성)\n",
    "        words, freqs = zip(*[(bigram[1], freq) for bigram, freq in candidates])  \n",
    "        total = sum(freqs)\n",
    "        probs = [freq / total for freq in freqs]  # 확률 계산\n",
    "        current_word = random.choices(words, weights=probs)[0]  # 확률에 따라 다음 단어 선택\n",
    "        generated.append(current_word)  # 생성된 단어 리스트에 추가\n",
    "        \n",
    "    return ' '.join(generated) # 생성된 문장을 문자열로 반환"
   ]
  },
  {
   "cell_type": "code",
   "execution_count": 8,
   "id": "b1cfde8e",
   "metadata": {},
   "outputs": [],
   "source": [
    "train_text = \"자연어 처리는 재미있다. 자연어 처리는 어렵지만 도전하고 싶다. 오늘은 날씨가 좋다.\"\n",
    "\n",
    "train_tokens = nltk.word_tokenize(train_text)\n",
    "\n",
    "unigram = train_tokens\n",
    "bigram = list(ngrams(train_tokens, 2))\n",
    "\n",
    "unigram_freq = Counter(unigram)\n",
    "bigram_freq = Counter(bigram)"
   ]
  },
  {
   "cell_type": "code",
   "execution_count": 9,
   "id": "dabcf97a",
   "metadata": {},
   "outputs": [
    {
     "data": {
      "text/plain": [
       "'자연어 처리는 재미있다 . 자연어 처리는 재미있다 . 자연어 처리는'"
      ]
     },
     "execution_count": 9,
     "metadata": {},
     "output_type": "execute_result"
    }
   ],
   "source": [
    "generate_text_bigram(\"자연어\", unigram_freq, bigram_freq) "
   ]
  }
 ],
 "metadata": {
  "kernelspec": {
   "display_name": "Python 3",
   "language": "python",
   "name": "python3"
  },
  "language_info": {
   "codemirror_mode": {
    "name": "ipython",
    "version": 3
   },
   "file_extension": ".py",
   "mimetype": "text/x-python",
   "name": "python",
   "nbconvert_exporter": "python",
   "pygments_lexer": "ipython3",
   "version": "3.13.7"
  }
 },
 "nbformat": 4,
 "nbformat_minor": 5
}
