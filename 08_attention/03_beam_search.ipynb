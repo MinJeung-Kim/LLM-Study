{
 "cells": [
  {
   "cell_type": "markdown",
   "id": "694c0d66",
   "metadata": {},
   "source": [
    "## Beam Search"
   ]
  },
  {
   "cell_type": "code",
   "execution_count": 1,
   "id": "0301cfd8",
   "metadata": {},
   "outputs": [],
   "source": [
    "import torch \n",
    "import torch.nn.functional as F"
   ]
  },
  {
   "cell_type": "code",
   "execution_count": 2,
   "id": "2d4c08ee",
   "metadata": {},
   "outputs": [],
   "source": [
    "def beam_search(decoder, hidden, context, beam_width=3, max_length=10):\n",
    "    sequences = [[list(), 1.0, hidden]]  # (sequence, score, hidden_state)\n",
    " \n",
    "    for _ in range(max_length):\n",
    "        all_candidates = []\n",
    "        for seq, score, hidden  in sequences:\n",
    "            decoder_input = torch.tensor([seq[-1] if seq else 0])\n",
    "            output, hidden = decoder(decoder_input, hidden, context)\n",
    "            top_probs, top_indexes = torch.topk(F.log_softmax(output, dim=1), beam_width)\n",
    "            \n",
    "            for i in range(beam_width):\n",
    "                candidate = [seq + [top_indexes[0][i].item()], score * -top_probs[0][i].item(), hidden]\n",
    "                all_candidates.append(candidate)\n",
    "                \n",
    "        sequences = sorted(all_candidates, key=lambda tup:tup[1], reverse=True)[:beam_width]\n",
    "    return sequences[0][0]  # return the best sequence"
   ]
  }
 ],
 "metadata": {
  "kernelspec": {
   "display_name": "Python 3",
   "language": "python",
   "name": "python3"
  },
  "language_info": {
   "codemirror_mode": {
    "name": "ipython",
    "version": 3
   },
   "file_extension": ".py",
   "mimetype": "text/x-python",
   "name": "python",
   "nbconvert_exporter": "python",
   "pygments_lexer": "ipython3",
   "version": "3.13.7"
  }
 },
 "nbformat": 4,
 "nbformat_minor": 5
}
