{
 "cells": [
  {
   "cell_type": "markdown",
   "id": "067e6b6f",
   "metadata": {},
   "source": [
    "## Input Feeding 기법\n",
    " - 이전 타임 스텝에서의 attention value = context vector"
   ]
  },
  {
   "cell_type": "code",
   "execution_count": 1,
   "id": "a9c565c6",
   "metadata": {},
   "outputs": [],
   "source": [
    "import torch\n",
    "import torch.nn as nn"
   ]
  },
  {
   "cell_type": "code",
   "execution_count": 2,
   "id": "e15a96c2",
   "metadata": {},
   "outputs": [],
   "source": [
    "class InputFeedingDecoder(nn.Module):\n",
    "    def __init__(self, input_size, hidden_size, output_size):\n",
    "        super(InputFeedingDecoder, self).__init__()\n",
    "        self.hidden_size = hidden_size\n",
    "        self.embedding = nn.Embedding(output_size, input_size)\n",
    "        self.rnn = nn.LSTM(input_size + hidden_size, hidden_size )\n",
    "        self.fc = nn.Linear(hidden_size, output_size)\n",
    "\n",
    "    def forward(self, input, hidden, context ):\n",
    "        embedded = self.embedding(input).unsqueeze(0)\n",
    "        rnn_input = torch.cat((embedded, context.unsqueeze(0)), dim=2)\n",
    "        output, hidden = self.rnn(rnn_input, hidden)\n",
    "        output = self.fc(output.squeeze(0))\n",
    "        \n",
    "        return output, hidden"
   ]
  },
  {
   "cell_type": "code",
   "execution_count": 5,
   "id": "eaacef7c",
   "metadata": {},
   "outputs": [
    {
     "data": {
      "text/plain": [
       "(torch.Size([1, 30]), torch.Size([1, 1, 20]))"
      ]
     },
     "execution_count": 5,
     "metadata": {},
     "output_type": "execute_result"
    }
   ],
   "source": [
    "decoder = InputFeedingDecoder(input_size=10, hidden_size=20, output_size=30)\n",
    "hidden = (torch.zeros(1, 1, 20), torch.zeros(1, 1, 20))\n",
    "context = torch.zeros(1, 20)\n",
    "input_token = torch.tensor([5])\n",
    "\n",
    "output, hidden = decoder(input_token, hidden, context)\n",
    "output.shape , hidden[0].shape"
   ]
  }
 ],
 "metadata": {
  "kernelspec": {
   "display_name": "Python 3",
   "language": "python",
   "name": "python3"
  },
  "language_info": {
   "codemirror_mode": {
    "name": "ipython",
    "version": 3
   },
   "file_extension": ".py",
   "mimetype": "text/x-python",
   "name": "python",
   "nbconvert_exporter": "python",
   "pygments_lexer": "ipython3",
   "version": "3.13.7"
  }
 },
 "nbformat": 4,
 "nbformat_minor": 5
}
