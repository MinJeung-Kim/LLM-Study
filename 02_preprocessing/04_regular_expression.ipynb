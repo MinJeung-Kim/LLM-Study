{
 "cells": [
  {
   "cell_type": "markdown",
   "id": "c425fdf8",
   "metadata": {},
   "source": [
    "### 정규표현식(Regular Expression)\n",
    "- 특정한 규칙을 가진 문자열을 찾기 위한 패턴\n",
    "- 정규 표현식을 사용하면 대량의 텍스트 데이터에서 특정 패턴을 효율적으로 추출, 삭제, 대체 가능"
   ]
  },
  {
   "cell_type": "code",
   "execution_count": 1,
   "id": "4eb7da9d",
   "metadata": {},
   "outputs": [],
   "source": [
    "# 정규표현식 모듈\n",
    "import re"
   ]
  },
  {
   "cell_type": "markdown",
   "id": "1f4dbe99",
   "metadata": {},
   "source": [
    "### Syntax 기본 문법\n",
    "`.` : 임의의 한 문자와 매치 (줄바꿈 문자는 제외)  \n",
    "`^` : 문자열의 시작과 매치  \n",
    "`$` : 문자열의 끝과 매치  \n",
    "`*` : 앞 문자가 0회 이상 반복될 때 매치  \n",
    "`+` : 앞 문자가 1회 이상 반복될 때 매치  \n",
    "`?` : 앞 문자가 0회 또는 1회 있을 때 매치  \n",
    "`{n}` : 앞 문자가 n회 반복될 때 매치  \n",
    "`{n, m}` : 앞 문자가 n회 이상 m회 이하 반복될 때 매치  \n",
    "`[...]` : 대괄호 안의 문자들 중 하나와 매치  \n",
    "`| : OR` 연산자 역할  \n",
    "`()` : 그룹화  \n",
    "`\\d` : 숫자와 매치 (0-9)  \n",
    "`\\D` : 숫자가 아닌 문자와 매치  \n",
    "`\\w` : 알파벳 대소문자, 숫자, 밑줄(_)과 매치  "
   ]
  },
  {
   "cell_type": "code",
   "execution_count": 2,
   "id": "397e9c6d",
   "metadata": {},
   "outputs": [
    {
     "name": "stdout",
     "output_type": "stream",
     "text": [
      "<re.Match object; span=(0, 3), match='abc'>\n",
      "<re.Match object; span=(0, 3), match='aXc'>\n",
      "<re.Match object; span=(0, 3), match='a c'>\n",
      "None\n",
      "None\n",
      "None\n"
     ]
    }
   ],
   "source": [
    "### . ### \n",
    "# 'a'와 'c' 사이에 임의의 한 문자가 있는 패턴 정의\n",
    "reg_exp = re.compile('a.c') \n",
    "\n",
    "# reg_exp.search(문자열) : 문자열에서 정규표현식과 매치되는 첫 번째 부분을 찾음\n",
    "# - 매치되면 매치 객체 반환, 매치되지 않으면 None 반환\n",
    "print(reg_exp.search('abc'))  \n",
    "print(reg_exp.search('aXc'))    \n",
    "print(reg_exp.search('a c'))   \n",
    "\n",
    "print(reg_exp.search('abbbc')) \n",
    "print(reg_exp.search('ac'))  \n",
    "print(reg_exp.search('bc'))  "
   ]
  },
  {
   "cell_type": "code",
   "execution_count": 4,
   "id": "1fd2dc8b",
   "metadata": {},
   "outputs": [
    {
     "name": "stdout",
     "output_type": "stream",
     "text": [
      "<re.Match object; span=(0, 3), match='abc'>\n",
      "None\n",
      "None\n",
      "<re.Match object; span=(0, 5), match='abbbc'>\n",
      "<re.Match object; span=(0, 2), match='ac'>\n",
      "None\n"
     ]
    }
   ],
   "source": [
    "### * ### \n",
    "# - 수량자(Quantifier) : 바로 앞에 있는 패턴이 0회 이상 반복되는 것을 의미\n",
    "# 'a'와 'c' 사이에 'b'가 0회 이상 반복되는 패턴 정의\n",
    "reg_exp = re.compile('ab*c') \n",
    "\n",
    "# reg_exp.search(문자열) : 문자열에서 정규표현식과 매치되는 첫 번째 부분을 찾음\n",
    "# - 매치되면 매치 객체 반환, 매치되지 않으면 None 반환\n",
    "print(reg_exp.search('abc'))  \n",
    "print(reg_exp.search('aXc'))    \n",
    "print(reg_exp.search('a c'))    \n",
    "print(reg_exp.search('abbbc')) \n",
    "print(reg_exp.search('ac'))  \n",
    "print(reg_exp.search('bc'))  "
   ]
  },
  {
   "cell_type": "code",
   "execution_count": 5,
   "id": "a329f7be",
   "metadata": {},
   "outputs": [
    {
     "name": "stdout",
     "output_type": "stream",
     "text": [
      "<re.Match object; span=(0, 3), match='abc'>\n",
      "None\n",
      "None\n",
      "None\n",
      "<re.Match object; span=(0, 2), match='ac'>\n",
      "None\n"
     ]
    }
   ],
   "source": [
    "### ? ###  \n",
    "# - 수량자(Quantifier) : 바로 앞에 있는 패턴이 0회 또는 1회 나타나는 것을 의미\n",
    "# 'a'와 'c' 사이에 'b'가 0회 또는 1회 나타나는 패턴 정의\n",
    "reg_exp = re.compile('ab?c') \n",
    "\n",
    "# reg_exp.search(문자열) : 문자열에서 정규표현식과 매치되는 첫 번째 부분을 찾음\n",
    "# - 매치되면 매치 객체 반환, 매치되지 않으면 None 반환\n",
    "print(reg_exp.search('abc'))  \n",
    "print(reg_exp.search('aXc'))    \n",
    "print(reg_exp.search('a c'))    \n",
    "print(reg_exp.search('abbbc')) \n",
    "print(reg_exp.search('ac'))  \n",
    "print(reg_exp.search('bc'))  "
   ]
  },
  {
   "cell_type": "code",
   "execution_count": 6,
   "id": "36b5cfa6",
   "metadata": {},
   "outputs": [
    {
     "name": "stdout",
     "output_type": "stream",
     "text": [
      "<re.Match object; span=(0, 3), match='abc'>\n",
      "None\n",
      "None\n",
      "<re.Match object; span=(0, 5), match='abbbc'>\n",
      "None\n",
      "None\n"
     ]
    }
   ],
   "source": [
    "### + ###  \n",
    "# - 수량자(Quantifier) : 바로 앞에 있는 패턴이 1회 이상 반복되는 것을 의미\n",
    "# 'a'와 'c' 사이에 'b'가 1회 이상 나타나는 패턴 정의\n",
    "reg_exp = re.compile('ab+c') \n",
    "\n",
    "# reg_exp.search(문자열) : 문자열에서 정규표현식과 매치되는 첫 번째 부분을 찾음\n",
    "# - 매치되면 매치 객체 반환, 매치되지 않으면 None 반환\n",
    "print(reg_exp.search('abc'))  \n",
    "print(reg_exp.search('aXc'))    \n",
    "print(reg_exp.search('a c'))    \n",
    "print(reg_exp.search('abbbc')) \n",
    "print(reg_exp.search('ac'))  \n",
    "print(reg_exp.search('bc'))  "
   ]
  },
  {
   "cell_type": "code",
   "execution_count": 9,
   "id": "6eed2b2f",
   "metadata": {},
   "outputs": [
    {
     "name": "stdout",
     "output_type": "stream",
     "text": [
      "None\n",
      "None\n",
      "<re.Match object; span=(0, 5), match='abbbc'>\n",
      "None\n",
      "None\n"
     ]
    }
   ],
   "source": [
    "### {n} ###  \n",
    "# - 수량자(Quantifier) : 바로 앞에 있는 패턴이 n회 반복되는 것을 의미\n",
    "# 'a'와 'c' 사이에 'b'가 정확히 3회 반복되는 패턴 정의\n",
    "reg_exp = re.compile('ab{3}c') \n",
    "\n",
    "# reg_exp.search(문자열) : 문자열에서 정규표현식과 매치되는 첫 번째 부분을 찾음\n",
    "# - 매치되면 매치 객체 반환, 매치되지 않으면 None 반환\n",
    "print(reg_exp.search('abc'))  \n",
    "print(reg_exp.search('abbc'))     \n",
    "print(reg_exp.search('abbbc')) \n",
    "print(reg_exp.search('abbbbc')) \n",
    "print(reg_exp.search('abbbbbc'))  "
   ]
  },
  {
   "cell_type": "code",
   "execution_count": 11,
   "id": "16b27f9b",
   "metadata": {},
   "outputs": [
    {
     "name": "stdout",
     "output_type": "stream",
     "text": [
      "<re.Match object; span=(10, 13), match='abc'>\n",
      "<re.Match object; span=(10, 13), match='abc'>\n",
      "<re.Match object; span=(23, 26), match='abc'>\n",
      "<re.Match object; span=(50, 53), match='abc'>\n"
     ]
    }
   ],
   "source": [
    "reg_exp = re.compile('a.c')\n",
    "\n",
    "text = 'sfldfjslfjabclskjflskdjabcfiowjfwonvoabbbbbcwhpwjeabclkdsjlk'\n",
    "print(reg_exp.search(text)) \n",
    "# <re.Match object; span=(10, 13), match='abc'>\n",
    "# span : 매치된 문자열의 시작과 끝 인덱스\n",
    "# match : 매치된 문자열 \n",
    "\n",
    "# 정규표현식에 맞는 패턴을 찾고 싶다면?\n",
    "for temp in re.finditer(reg_exp, text):\n",
    "    print(temp)"
   ]
  },
  {
   "cell_type": "code",
   "execution_count": 12,
   "id": "34fb1a02",
   "metadata": {},
   "outputs": [
    {
     "name": "stdout",
     "output_type": "stream",
     "text": [
      "<re.Match object; span=(7, 8), match='a'>\n",
      "<re.Match object; span=(7, 8), match='c'>\n",
      "None\n"
     ]
    }
   ],
   "source": [
    "# 문자 매칭 [] : []안에 있는 것 중 한 글자와 매치되는 패턴 정의\n",
    "reg_exp = re.compile('[abc]')\n",
    "print(reg_exp.search('안녕하세요, abc입니다!')) \n",
    "print(reg_exp.search('안녕하세요, cba입니다!')) \n",
    "print(reg_exp.search('안녕하세요, ABC입니다!')) "
   ]
  },
  {
   "cell_type": "code",
   "execution_count": 14,
   "id": "0e6b1657",
   "metadata": {},
   "outputs": [
    {
     "name": "stdout",
     "output_type": "stream",
     "text": [
      "['a', 'b', 'c']\n"
     ]
    }
   ],
   "source": [
    "reg_exp = re.compile('[a-zA-Z]') # 대소문자 구분 없이 알파벳 한 글자와 매치\n",
    "\n",
    "print(re.findall(reg_exp, '안녕하세요, abc입니다!'))"
   ]
  },
  {
   "cell_type": "code",
   "execution_count": 18,
   "id": "c96c7660",
   "metadata": {},
   "outputs": [
    {
     "name": "stdout",
     "output_type": "stream",
     "text": [
      "<re.Match object; span=(0, 3), match='who'>\n",
      "None\n",
      "['who']\n",
      "['who']\n",
      "[]\n"
     ]
    }
   ],
   "source": [
    "### ^ ###\n",
    "# - 문자열의 시작을 의미\n",
    "reg_exp = re.compile('^who')\n",
    "\n",
    "print(reg_exp.search('who is who'))\n",
    "print(reg_exp.search('is who'))\n",
    "\n",
    "print(re.findall('who','is who'))\n",
    "print(re.findall(reg_exp,'who is who'))\n",
    "print(re.findall(reg_exp,'is who'))"
   ]
  },
  {
   "cell_type": "markdown",
   "id": "bf48b472",
   "metadata": {},
   "source": [
    "### re 모듈 함수 & re 객체 메소드"
   ]
  },
  {
   "cell_type": "code",
   "execution_count": 19,
   "id": "523bae80",
   "metadata": {},
   "outputs": [
    {
     "name": "stdout",
     "output_type": "stream",
     "text": [
      "<re.Match object; span=(0, 2), match='ab'>\n",
      "None\n",
      "<re.Match object; span=(3, 5), match='ab'>\n"
     ]
    }
   ],
   "source": [
    "\n",
    "##### 메서드 search() : 문자열 패턴 검사 #####\n",
    "# - reg_exp.search(문자열) : 문자열에서 정규표현식과 매치되는 첫 번째 부분을 찾음\n",
    "# - 매치되면 매치 객체 반환, 매치되지 않으면 None 반환\n",
    "reg_exp = re.compile('ab')\n",
    "\n",
    "print(reg_exp.search('abc'))\n",
    "print(reg_exp.search('123'))\n",
    "print(reg_exp.search('123abc'))"
   ]
  },
  {
   "cell_type": "code",
   "execution_count": 22,
   "id": "2895477f",
   "metadata": {},
   "outputs": [
    {
     "name": "stdout",
     "output_type": "stream",
     "text": [
      "['010', '1234', '5678']\n",
      "['010-1234-5678']\n"
     ]
    }
   ],
   "source": [
    "##### 함수 findall() : 매칭된 결과 모두 반환 #####\n",
    "# - re.findall(정규표현식, 문자열) : 문자열에서 정규표현식과 매치되는 모든 부분을 찾아 리스트로 반환\n",
    "\n",
    "text = '제 전화번호는 010-1234-5678입니다.'\n",
    "\n",
    "# 숫자가 1회 이상 반복되는 패턴 정의\n",
    "# - [0-9]+ : 0부터 9까지의 숫자가 1회 이상 반복되는 패턴\n",
    "# - findall() 함수로 패턴과 매치되는 모든 부분을 찾아 리스트로 반환\n",
    "nums = re.findall('[0-9]+', text)\n",
    "print(nums)\n",
    "\n",
    "# 하이픈까지 포함하여 패턴 정의\n",
    "nums = re.findall('[0-9-]+', text)\n",
    "print(nums)\n"
   ]
  },
  {
   "cell_type": "code",
   "execution_count": 24,
   "id": "e725be0c",
   "metadata": {},
   "outputs": [
    {
     "name": "stdout",
     "output_type": "stream",
     "text": [
      "<re.Match object; span=(0, 2), match='ab'>\n",
      "None\n",
      "None\n"
     ]
    }
   ],
   "source": [
    "##### match() : 시작하는 문자열 패턴 검사 #####\n",
    "\n",
    "reg_exp = re.compile('ab')\n",
    "\n",
    "print(reg_exp.match('abc'))\n",
    "print(reg_exp.match('123'))\n",
    "print(reg_exp.match('123abc'))"
   ]
  },
  {
   "cell_type": "code",
   "execution_count": 27,
   "id": "a9a7a869",
   "metadata": {},
   "outputs": [
    {
     "name": "stdout",
     "output_type": "stream",
     "text": [
      "['Apple ', 'anana ', 'range']\n"
     ]
    }
   ],
   "source": [
    "##### split() : 정규식 패턴 기준으로 문자열 분리 #####\n",
    "\n",
    "# text = \"apple banana orange\"\n",
    "text = \"Apple Banana Orange\"\n",
    "\n",
    "# 'b' 또는 'o'로 시작하는 단어를 기준으로 문자열 분리\n",
    "# flags=re.IGNORECASE : 대소문자 구분 없이 패턴 적용\n",
    "split_text = re.split('[bo]', text, flags=re.IGNORECASE)\n",
    "print(split_text)"
   ]
  },
  {
   "cell_type": "code",
   "execution_count": 40,
   "id": "423bf787",
   "metadata": {},
   "outputs": [
    {
     "name": "stdout",
     "output_type": "stream",
     "text": [
      "Hello everyone Welcome to NLP \n",
      "Hello🌟🌟🌟 everyone🌟🌟🌟 Welcome to NLP 🌟🌟🌟🌟🌟🌟🌟🌟🌟\n"
     ]
    }
   ],
   "source": [
    "#### sub() : 패턴과 매치되는 부분을 다른 문자열로 대체 #####\n",
    "# - re.sub(정규표현식, 대체문자열, 원본문자열) : 원본문자열에서 정규표현식과 매치되는 부분을 대체문자열로 변경\n",
    "\n",
    "text = \"Hello, everyone! Welcome to NLP 🤖🤖🤖\" \n",
    "\n",
    "# 영문자와 공백을 제외한 모든 문자를 제거 = 이모티콘 제거\n",
    "cleaned_text = re.sub('[^a-zA-Z ]', '', text)\n",
    "print(cleaned_text)\n",
    "\n",
    "add_text = re.sub('[^a-zA-Z ]', '🌟🌟🌟', text)\n",
    "print(add_text)"
   ]
  },
  {
   "cell_type": "markdown",
   "id": "fff20206",
   "metadata": {},
   "source": [
    "### 정규표현식 토큰화\n",
    "- 정규표현식을 사용해서 패턴에 해당하는 데이터를 찾음.\n",
    "- 띄어쓰기를 기준으로 잘릴수 밖에 없게끔 사용됨."
   ]
  },
  {
   "cell_type": "code",
   "execution_count": 39,
   "id": "b425092b",
   "metadata": {},
   "outputs": [
    {
     "name": "stdout",
     "output_type": "stream",
     "text": [
      "['He', 's', 'a', 'runner', 'but', 'not', 'a', 'long_distance', 'runner', 'His', 'number', 'is', '1234']\n"
     ]
    }
   ],
   "source": [
    "from nltk.tokenize import RegexpTokenizer\n",
    "\n",
    "text = \"He's a runner, but not a long_distance runner. His number is 1234\"\n",
    " \n",
    "# RegexpTokenizer : 정규표현식을 사용한 토큰화 클래스\n",
    "# [a-zA-Z0-9_] : 알파벳 대소문자, 숫자, 언더스코어(_)를 포함한 패턴 정의\n",
    "# tokenizer = RegexpTokenizer('[a-zA-Z0-9_]+')\n",
    "\n",
    "# r'\\w+' : 단어 문자를 의미하는 \\w를 사용한 패턴 정의\n",
    "tokenizer = RegexpTokenizer(r'\\w+') \n",
    "\n",
    "# 단어 토큰화\n",
    "tokens = tokenizer.tokenize(text)\n",
    "print(tokens)\n"
   ]
  }
 ],
 "metadata": {
  "kernelspec": {
   "display_name": "Python 3",
   "language": "python",
   "name": "python3"
  },
  "language_info": {
   "codemirror_mode": {
    "name": "ipython",
    "version": 3
   },
   "file_extension": ".py",
   "mimetype": "text/x-python",
   "name": "python",
   "nbconvert_exporter": "python",
   "pygments_lexer": "ipython3",
   "version": "3.13.7"
  }
 },
 "nbformat": 4,
 "nbformat_minor": 5
}
