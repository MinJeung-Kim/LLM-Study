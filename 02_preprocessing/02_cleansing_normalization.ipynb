{
 "cells": [
  {
   "cell_type": "markdown",
   "id": "656e5b78",
   "metadata": {},
   "source": [
    "## 정제(Cleansing) & 정규화(Normalization)\n",
    "- 정제: 불필요한 특수 문자, 구두점 등 텍스트 데이터에 포함된 노이즈 제거\n",
    "- 정규화: 같은 의미지만 표기가 다른 단어들을 일관된 표현으로 통일 (대소문자 , 문자 등)"
   ]
  },
  {
   "cell_type": "markdown",
   "id": "44360453",
   "metadata": {},
   "source": [
    "### 정규화\n",
    "- 규칙기반 정규화 : 특정 규칙들을 토대로 통일 시켜줌.\n",
    "    - United Kingdom = UK\n",
    "    - Uh-oh! = uhoh\n",
    "    => 서로 다른 표현을 통일시킴"
   ]
  },
  {
   "cell_type": "code",
   "execution_count": 1,
   "id": "855d85a8",
   "metadata": {},
   "outputs": [],
   "source": [
    "text = \"The United Kingdom and UK have a long history together. \\\n",
    "Uh-oh! Something went wrong, uhoh.\""
   ]
  },
  {
   "cell_type": "code",
   "execution_count": 3,
   "id": "5113c586",
   "metadata": {},
   "outputs": [
    {
     "data": {
      "text/plain": [
       "'The UK and UK have a long history together. Uh-oh! Something went wrong, uh-oh.'"
      ]
     },
     "execution_count": 3,
     "metadata": {},
     "output_type": "execute_result"
    }
   ],
   "source": [
    "\n",
    "# 규칙기반 정규화 : 정해진 룰에 따라 특정지어 치환 작업 \n",
    "transformed_text = text.replace(\"United Kingdom\", \"UK\").replace(\"uhoh\", \"uh-oh\")\n",
    "transformed_text"
   ]
  },
  {
   "cell_type": "code",
   "execution_count": 4,
   "id": "70311849",
   "metadata": {},
   "outputs": [
    {
     "name": "stdout",
     "output_type": "stream",
     "text": [
      "theater attendance has decreased. the theater industry is adapting.\n"
     ]
    }
   ],
   "source": [
    "# 대소문자 통합\n",
    "text = \"Theater attendance has decreased. The THEATER industry is adapting.\"\n",
    "transformed_text = text.lower()\n",
    "print(transformed_text)"
   ]
  },
  {
   "cell_type": "markdown",
   "id": "d3753765",
   "metadata": {},
   "source": [
    "### 정규화 정제\n",
    "\n",
    "- 불필요한 단어 제거\n",
    "- 사용빈도가 매우 적은 단어\n",
    "- 불용어 (자주 사용되지만 큰 의미를 갖지 않는 단어)\n",
    "- 특수문자\n"
   ]
  },
  {
   "cell_type": "code",
   "execution_count": 5,
   "id": "1cc5bf8d",
   "metadata": {},
   "outputs": [],
   "source": [
    "text = \"The quick brown fox jumps over the lazy dog. The fox is quick and agile.\""
   ]
  },
  {
   "cell_type": "code",
   "execution_count": 7,
   "id": "74a79efa",
   "metadata": {},
   "outputs": [
    {
     "name": "stdout",
     "output_type": "stream",
     "text": [
      "Counter({'The': 2, 'quick': 2, 'fox': 2, '.': 2, 'brown': 1, 'jumps': 1, 'over': 1, 'the': 1, 'lazy': 1, 'dog': 1, 'is': 1, 'and': 1, 'agile': 1})\n",
      "['The', 'quick', 'fox', '.', 'The', 'fox', 'quick', '.']\n"
     ]
    }
   ],
   "source": [
    "##### 1. 빈도수 낮은 단어 제거 #####\n",
    "\n",
    "from nltk.tokenize import word_tokenize\n",
    "from collections import Counter  \n",
    "\n",
    "# 토큰화 : 단어 단위로 분리(문장 -> 단어)\n",
    "tokens = word_tokenize(text)\n",
    "\n",
    "# 단어별 빈도수 계산\n",
    "# Counter : 단어의 빈도수를 쉽게 계산할 수 있는 파이썬의 내장 라이브러리\n",
    "#     - 단어를 key로, 빈도수를 value로 하는 딕셔너리 형태로 반환\n",
    "token_counts = Counter(tokens)\n",
    "print(token_counts)\n",
    "\n",
    "# 빈도수가 2회 이상인 단어만 필터링\n",
    "filtered_tokens = [token for token in tokens if token_counts[token] >= 2]\n",
    "print(filtered_tokens)"
   ]
  },
  {
   "cell_type": "code",
   "execution_count": 8,
   "id": "97437900",
   "metadata": {},
   "outputs": [
    {
     "name": "stdout",
     "output_type": "stream",
     "text": [
      "['The', 'quick', 'brown', 'fox', 'jumps', 'over', 'the', 'lazy', 'dog', 'The', 'fox', 'quick', 'and', 'agile']\n"
     ]
    }
   ],
   "source": [
    "##### 2. 짧은 단어 제거 #####\n",
    "# - 한국어에 대해서는 짧은 단어 제거가 효과적일 수 없음 -> 조사, 어미 등이 중요한 의미를 가질 수 있기 때문\n",
    "# - 영어에서는 짧은 단어가 불필요한 경우가 많음\n",
    "\n",
    "tokens = word_tokenize(text)\n",
    "\n",
    "# 길이가 2자 초과인 단어만 필터링\n",
    "filtered_tokens = [token for token in tokens if len(token) > 2]\n",
    "print(filtered_tokens)\n",
    "\n"
   ]
  },
  {
   "cell_type": "code",
   "execution_count": 10,
   "id": "4299b6d3",
   "metadata": {},
   "outputs": [
    {
     "name": "stdout",
     "output_type": "stream",
     "text": [
      "{\"i'd\", 'ma', \"she's\", 'needn', \"i'll\", 'those', 'whom', \"that'll\", 'hasn', \"they're\", 'below', 'then', \"didn't\", 'such', 'when', 'd', 'a', 'what', 'i', 'from', 'all', \"couldn't\", 'are', 'has', 'been', \"shouldn't\", \"needn't\", 'y', \"wasn't\", 'during', 'aren', 'again', 'further', \"isn't\", 'll', 'by', 'haven', 'mightn', \"he'd\", 'isn', \"it'd\", 'any', 'here', 'were', 'my', 'our', 'and', \"we'll\", 'there', \"they'd\", 'don', 'won', \"wouldn't\", \"we've\", 'is', \"shan't\", 'doing', \"hasn't\", 'of', \"weren't\", 'wouldn', 'his', 'themselves', \"don't\", 'off', \"it's\", 'an', 't', 'this', 'yourself', 'them', 'they', 'where', 'your', 'myself', 'on', 'under', \"aren't\", 'or', 'most', 'than', 'very', \"we're\", \"she'd\", \"you'd\", \"he's\", 'same', 'because', 'to', 'weren', 'these', 'it', 'did', 'about', 'can', 'me', 'no', 'why', 'didn', 'but', \"haven't\", 'as', 'being', 'doesn', 'him', 'which', \"they've\", 'hers', 'between', 'through', 'itself', 'theirs', 'after', 'ourselves', \"won't\", 'at', 'himself', 'over', 'was', 'will', 'nor', \"mustn't\", 's', \"we'd\", 'so', \"he'll\", 'too', 'ain', \"you're\", 'up', 'be', 'out', 'mustn', 'down', 'while', 'once', 'should', 've', 'm', 'had', 'how', 'not', 'shan', 'you', 'hadn', \"hadn't\", 'the', \"you've\", 'her', 'few', 'does', 'we', 'only', 'yourselves', 'herself', \"she'll\", \"i've\", 're', \"i'm\", 'yours', 'she', 'have', 'other', 'in', 'own', 'couldn', 'shouldn', 'their', 'do', 'now', 'before', 'some', 'wasn', 'just', \"they'll\", 'he', 'above', 'each', \"mightn't\", 'if', 'against', 'that', 'having', 'ours', 'until', 'into', 'its', 'who', \"it'll\", 'am', 'o', 'for', 'more', \"should've\", 'both', \"you'll\", \"doesn't\", 'with'}\n",
      "['quick', 'brown', 'fox', 'jumps', 'lazy', 'dog', '.', 'fox', 'quick', 'agile', '.']\n"
     ]
    }
   ],
   "source": [
    "##### 3. 불용어(stopword) 제거 #####\n",
    "\n",
    "from nltk.corpus import stopwords\n",
    "\n",
    "# 영어 불용어 사전 로드\n",
    "# set 자료형 : 중복된 값을 허용하지 않음\n",
    "en_stopwords = set(stopwords.words('english'))\n",
    "print(en_stopwords)\n",
    "\n",
    "# 토큰화\n",
    "tokens = word_tokenize(text)\n",
    "\n",
    "# 불용어 제거 => 소문자 변환 후 불용어 사전에 없는 단어만 필터링\n",
    "filtered_tokens = [token for token in tokens if token.lower() not in en_stopwords]\n",
    "print(filtered_tokens)"
   ]
  },
  {
   "cell_type": "code",
   "execution_count": 11,
   "id": "5ce6d08c",
   "metadata": {},
   "outputs": [
    {
     "name": "stdout",
     "output_type": "stream",
     "text": [
      "['이', '방법', '은', '특히', '빅데이터', '분석', '에서', '중요한', '역할', '을', '합니다', '.', '이를', '통해', '서', '더', '많은', '정보', '를', '얻을', '수', '있습니다', '.']\n"
     ]
    }
   ],
   "source": [
    "##### 4. 한국어 불용어 제거 #####\n",
    "# https://ranks.nl/stopwords/korean => 한국어 불용어 사전 참고\n",
    "from konlpy.tag import Okt\n",
    "\n",
    "text = \"이 방법은 특히 빅데이터 분석에서 중요한 역할을 합니다. 이를 통해서 더 많은 정보를 얻을 수 있습니다.\"\n",
    "\n",
    "# 토큰화\n",
    "okt = Okt() \n",
    "\n",
    "# morphs() : 형태소 단위로 토큰화\n",
    "tokens = okt.morphs(text)\n",
    "print(tokens) "
   ]
  },
  {
   "cell_type": "code",
   "execution_count": 16,
   "id": "4db3569b",
   "metadata": {},
   "outputs": [
    {
     "name": "stdout",
     "output_type": "stream",
     "text": [
      "{'어떤것들', '무릎쓰고', '나', '제외하고', '중의하나', '쳇', '뿐이다', '그러면', '견지에서', '그런 까닭에', '이천팔', '도달하다', '기타', '것과 같이', '여기', '말할것도 없고', '기점으로', '콸콸', '까닭으로', '몇', '어떤', '엉엉', '반드시', '하지 않도록', '여섯', '하기는한데', '본대로', '연이서', '하면서', '고려하면', '버금', '어쨋든', '조차도', '곧', '지말고', '의해', '뒤따라', '부터', '타다', '어떤것', '시간', '툭', '결론을 낼 수 있다', '같다', '얼마큼', '조금', '자마자', '제', '차라리', '아니나다를가', '그래서', '하는것만 못하다', '할만하다', '일반적으로', '아이', '거바', '더구나', '남들', '둥둥', '허허', '헉', '자신', '상대적으로 말하자면', '각각', '불문하고', '더라도', '이상', '힘입어', '비록', '하려고하다', '일지라도', '어디', '이렇구나', '다음', '위하여', '응당', '하여야', '오직', '마음대로', '아이고', '이곳', '하느니', '지만', '우리들', '할줄알다', '과', '결국', '우에 종합한것과같이', '에 달려 있다', '점에서 보아', '이리하여', '말하자면', '하기보다는', '을', '모', '아니면', '더불어', '하는 편이 낫다', '얼마 안 되는 것', '허', '된바에야', '그렇지 않다면', '때가 되어', '매', '어느때', '이것', '아래윗', '않기 위해서', '예를 들면', '틈타', '어째서', '하기만 하면', '에 대해', '어떠한', '운운', '습니까', '이천칠', '다수', '왜', '각', '봐', '오', '이때', '얼마든지', '소인', '그렇지만', '하면 할수록', '라 해도', '하고 있다', '야', '다만', '휘익', '삼', '관련이 있다', '하나', '향하여', '응', '일단', '기대여', '너희들', '탕탕', '다소', '밖에 안된다', '만 못하다\\t하기보다는', '양자', '그러한즉', '조차', '저', '하는것도', '까지', '알았어', '예컨대', '그중에서', '한켠으로는', '비로소', '결과에 이르다', '아이구', '으로써', '얼마간', '제각기', '무렵', '여부', '할때', '하지 않는다면', '까지도', '개의치않고', '총적으로 말하면', '하하', '보드득', '습니다', '할 줄 안다', '따위', '해요', '예를 들자면', '한다면 몰라도', '입장에서', '딱', '심지어', '논하지 않다', '이봐', '흥', '어느쪽', '좀', '각자', '바꿔 말하면', '바꾸어서 말하면', '구토하다', '아이야', '전부', '흐흐', '기준으로', '비하면', '좋아', '까지 미치다', '삐걱', '여보시오', '륙', '혼자', '오자마자', '할수있다', '하', '첫번째로', '우선', '겨우', '쉿', '헉헉', '그만이다', '바로', '대해 말하자면', '한다면', '구', '하지마라', '보는데서', '막론하고', '요만한 것', '바꾸어말하자면', '시작하여', '시키다', '할 따름이다', '이만큼', '누가 알겠는가', '그렇게 함으로써', '모두', '줄은 몰랏다', '관하여', '만은 아니다', '인젠', '전후', '정도에 이르다', '를', '만이 아니다', '이지만', '한적이있다', '얼마나', '하지마', '잠깐', '의해되다', '요컨대', '중에서', '칠', '한데', '총적으로', '게우다', '아니', '혹시', '나머지는', '안 그러면', '이번', '하마터면', '관해서는', '이천구', '한 이유는', '이렇게 많은 것', '이렇게말하자면', '그러니까', '여', '소생', '이러이러하다', '으로서', '고로', '불구하고', '봐라', '오로지', '갖고말하자면', '공동으로', '둘', '하도록하다', '당장', '할망정', '너', '자기집', '저희', '한마디', '퍽', '저쪽', '이렇게되면', '따지지 않다', '해서는 안된다', '이외에도', '어기여차', '요만한걸', '실로', '육', '일것이다', '무슨', '그렇지 않으면', '각종', '하더라도', '대하면', '즉시', '하게될것이다', '이 밖에', '만큼\\t어찌됏든', '그', '어느해', '근거하여', '와', '아이쿠', '위에서 서술한바와같이', '시각', '어찌하든지', '뿐만 아니라', '비추어 보아', '의', '어', '펄렁', '그럼', '있다', '한 후', '대로 하다', '그럼에도 불구하고', '하겠는가', '하는 김에', '바꾸어말하면', '너희', '거의', '비교적', '하도다', '그렇지', '일곱', '하기 위하여', '할수있어', '관계없이', '다시 말하자면', '것', '그래', '향하다', '얼마', '어이', '오히려', '아니었다면', '당신', '참나', '어쩔수 없다', '이유만으로', '그때', '셋', '뚝뚝', '좍좍', '그러나', '오호', '댕그', '따라서', '예하면', '반대로', '하구나', '할 지경이다', '구체적으로', '뿐만아니라', '대하여', '솨', '다음으로', '참', '넷', '끙끙', '자', '주룩주룩', '하고있었다', '타인', '이라면', '언제', '가', '뒤이어', '붕붕', '이와 반대로', '하는것이 낫다', '어찌', '누구', '이런', '우리', '의해서', '함께', '그리고', '관계가 있다', '향해서', '한항목', '설마', '더군다나', '에 있다', '끼익', '근거로', '하곤하였다', '그런즉', '할 힘이 있다', '시초에', '답다', '그에 따르는', '하자마자', '로부터', '언젠가', '이러한', '토하다', '인 듯하다', '겸사겸사', '아니라면', '이와같다면', '남짓', '이래', '즉', '어느것', '아야', '다섯', '또한', '이로 인하여', '영', '그래도', '저것', '이와 같은', '으로 인하여', '하지만', '어느 년도', '와아', '주저하지 않고', '꽈당', '도착하다', '그런데', '이 때문에', '얼마만큼', '하물며', '이 외에', '이용하여', '해도좋다', '때문에', '진짜로', '해봐요', '형식으로 쓰여', '하는바', '그위에', '가까스로', '과연', '임에 틀림없다', '여전히', '하면된다', '에', '어느곳', '보다더', '다시말하면', '마치', '위해서', '앞의것', '같이', '일때', '그렇지않으면', '하여금', '아하', '한 까닭에', '더욱이는', '또', '졸졸', '무엇', '할뿐', '팔', '어느', '비길수 없다', '앞에서', '네', '자기', '할지라도', '할 생각이다', '쪽으로', '어떻게', '마저도', '더욱더', '삐걱거리다', '령', '지든지', '까악', '혹은', '저것만큼', '하게하다', '다음에', '가령', '외에도', '만약', '대해서', '하도록시키다', '앗', '의거하여', '옆사람', '반대로 말하자면', '만약에', '잇따라', '이어서', '비걱거리다', '아무거나', '으로', '아', '동시에', '아홉', '줄은모른다', '휴', '년', '에 한하다', '의지하여', '놀라다', '여차', '그저', '저기', '총적으로 보면', '부류의 사람들', '든간에', '메쓰겁다', '왜냐하면', '퉤', '설령', '만 못하다', '이젠', '쿵', '만일', '잠시', '이', '이 정도의', '하기에', '통하여', '바와같이', '이와 같다', '딩동', '즈음하여', '다른', '영차', '그러니', '입각하여', '그치지 않다', '헐떡헐떡', '이럴정도로', '관한', '여러분', '단지', '하기 때문에', '어찌됏어', '여덟', '등', '와 같은 사람들', '연관되다', '월', '무엇때문에', '하든지', '다른 방면으로', '어떻해', '및', '로', '에 가서', '것들', '해도된다', '이 되다', '매번', '요만큼', '로 인하여', '비슷하다', '로써', '이천육', '이르기까지', '그러므로', '거니와', '윙윙', '팍', '아울러', '에서', '쾅쾅', '등등', '그리하여', '약간', '바꾸어서 한다면', '그들', '않기 위하여', '어때', '이쪽', '들', '할지언정', '물론', '어찌하여', '동안', '허걱', '우르르', '사', '이었다', '에게', '했어요', '전자', '때', '해야한다', '생각한대로', '오르다', '알 수 있다', '설사', '마저', '따라', '아무도', '일', '예', '와르르', '된이상', '게다가', '두번째로', '훨씬'}\n"
     ]
    }
   ],
   "source": [
    "# 한국어 불용어 사전 로드 함수\n",
    "def load_stopwords(filepath):\n",
    "    stopwords = set()\n",
    "    with open(filepath, 'r', encoding='utf-8') as f:\n",
    "        for line in f:\n",
    "            stopwords.add(line.strip())\n",
    "    return stopwords\n",
    "\n",
    "ko_stopwords = load_stopwords('./ko_stopwords.txt')\n",
    "\n",
    "print(ko_stopwords)"
   ]
  },
  {
   "cell_type": "code",
   "execution_count": 17,
   "id": "8eb9a327",
   "metadata": {},
   "outputs": [
    {
     "name": "stdout",
     "output_type": "stream",
     "text": [
      "['방법', '은', '특히', '빅데이터', '분석', '중요한', '역할', '합니다', '.', '이를', '통해', '서', '더', '많은', '정보', '얻을', '수', '있습니다', '.']\n"
     ]
    }
   ],
   "source": [
    "cleaned_tokens = [token for token in tokens if token not in ko_stopwords]\n",
    "print(cleaned_tokens)"
   ]
  }
 ],
 "metadata": {
  "kernelspec": {
   "display_name": "Python 3",
   "language": "python",
   "name": "python3"
  },
  "language_info": {
   "codemirror_mode": {
    "name": "ipython",
    "version": 3
   },
   "file_extension": ".py",
   "mimetype": "text/x-python",
   "name": "python",
   "nbconvert_exporter": "python",
   "pygments_lexer": "ipython3",
   "version": "3.13.7"
  }
 },
 "nbformat": 4,
 "nbformat_minor": 5
}
