{
 "cells": [
  {
   "cell_type": "markdown",
   "id": "ea13869f",
   "metadata": {},
   "source": [
    "### 어간/표제어 추출\n",
    "\n",
    "**어간(Stem)**\n",
    "- 단어의 의미를 담고 있는 단어의 핵심 부분\n",
    "\n",
    "**표제어(Lemma)**\n",
    "- 단어의 사전적 형태(단어의 기본형)\n",
    "- 언어의 문법적 규칙에 따라 변형된 단어르르 원래 형태로 돌려놓은 것\n",
    "\n",
    "**왜 추출할까?**\n",
    "1. 의미 일관성\n",
    "2. 데이터 차원 축소\n",
    "3. 노이즈 감소\n",
    "4. 정확성 향상\n"
   ]
  },
  {
   "cell_type": "code",
   "execution_count": 2,
   "id": "4dd26120",
   "metadata": {},
   "outputs": [
    {
     "name": "stdout",
     "output_type": "stream",
     "text": [
      "['The', 'runners', 'were', 'running', 'swiftly', 'and', 'easily', '.', 'They', 'ran', 'past', 'the', 'finish', 'line', '.']\n",
      "['the', 'runner', 'were', 'run', 'swiftli', 'and', 'easili', '.', 'they', 'ran', 'past', 'the', 'finish', 'line', '.']\n"
     ]
    }
   ],
   "source": [
    "#### 어간 추출 ####\n",
    "from nltk.stem import PorterStemmer\n",
    "from nltk.tokenize import word_tokenize\n",
    "\n",
    "text = \"The runners were running swiftly and easily. They ran past the finish line.\"\n",
    "\n",
    "# 토큰화\n",
    "tokens = word_tokenize(text)\n",
    "print(tokens)\n",
    "\n",
    "# 어간 추출\n",
    "# PorterStemmer : 가장 널리 사용되는 어간 추출 알고리즘 중 하나 \n",
    "# 어근을 추출하여 단어의 변형된 형태를 기본 형태로 변환\n",
    "stemmer = PorterStemmer()\n",
    "\n",
    "# 각 토큰에 대해 어간 추출 수행\n",
    "# 의미를 갖는 최소 단위로 변환\n",
    "stemmed_tokens = [stemmer.stem(token) for token in tokens]\n",
    "print(stemmed_tokens)  # 소문자로만 변경되서 출력됨."
   ]
  },
  {
   "cell_type": "code",
   "execution_count": 3,
   "id": "04637aef",
   "metadata": {},
   "outputs": [
    {
     "name": "stdout",
     "output_type": "stream",
     "text": [
      "['The', 'runners', 'were', 'running', 'swiftly', 'and', 'easily', '.', 'They', 'ran', 'past', 'the', 'finish', 'line', '.']\n",
      "['The', 'runners', 'be', 'run', 'swiftly', 'and', 'easily', '.', 'They', 'run', 'past', 'the', 'finish', 'line', '.']\n"
     ]
    }
   ],
   "source": [
    "#### 표제어 추출 ####\n",
    "from nltk.stem import WordNetLemmatizer\n",
    "\n",
    "# WordNetLemmatizer : 표제어 추출을 위한 클래스\n",
    "# - 표제어 추출은 단어의 품사를 고려하여 원형 단어로 변환 \n",
    "lemmatizer = WordNetLemmatizer()\n",
    "\n",
    "# 각 토큰에 대해 표제어 추출 수행\n",
    "# 동사 형태로 표제어 추출\n",
    "lemmatized_tokens = [lemmatizer.lemmatize(token, pos='v') for token in tokens]\n",
    "\n",
    "print(tokens)\n",
    "print(lemmatized_tokens)  # 원형 단어로 변환되어 출력됨."
   ]
  }
 ],
 "metadata": {
  "kernelspec": {
   "display_name": "Python 3",
   "language": "python",
   "name": "python3"
  },
  "language_info": {
   "codemirror_mode": {
    "name": "ipython",
    "version": 3
   },
   "file_extension": ".py",
   "mimetype": "text/x-python",
   "name": "python",
   "nbconvert_exporter": "python",
   "pygments_lexer": "ipython3",
   "version": "3.13.7"
  }
 },
 "nbformat": 4,
 "nbformat_minor": 5
}
