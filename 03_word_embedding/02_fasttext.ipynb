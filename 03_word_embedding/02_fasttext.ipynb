{
 "cells": [
  {
   "cell_type": "markdown",
   "id": "498c1841",
   "metadata": {},
   "source": [
    "# FastText"
   ]
  },
  {
   "cell_type": "markdown",
   "id": "b1aa9a97",
   "metadata": {},
   "source": [
    "### gensim FastText"
   ]
  },
  {
   "cell_type": "code",
   "execution_count": 1,
   "id": "9e844877",
   "metadata": {},
   "outputs": [],
   "source": [
    "from gensim.models import FastText\n",
    "from lxml import etree\n",
    "import re\n",
    "from nltk.tokenize import word_tokenize, sent_tokenize\n",
    "from nltk.corpus import stopwords\n",
    "import pandas as pd"
   ]
  },
  {
   "cell_type": "code",
   "execution_count": 2,
   "id": "c4a58dc1",
   "metadata": {},
   "outputs": [
    {
     "ename": "FileNotFoundError",
     "evalue": "[Errno 2] No such file or directory: 'ted_en.xml'",
     "output_type": "error",
     "traceback": [
      "\u001b[31m---------------------------------------------------------------------------\u001b[39m",
      "\u001b[31mFileNotFoundError\u001b[39m                         Traceback (most recent call last)",
      "\u001b[36mCell\u001b[39m\u001b[36m \u001b[39m\u001b[32mIn[2]\u001b[39m\u001b[32m, line 1\u001b[39m\n\u001b[32m----> \u001b[39m\u001b[32m1\u001b[39m f = \u001b[38;5;28;43mopen\u001b[39;49m\u001b[43m(\u001b[49m\u001b[33;43m'\u001b[39;49m\u001b[33;43mted_en.xml\u001b[39;49m\u001b[33;43m'\u001b[39;49m\u001b[43m,\u001b[49m\u001b[43m \u001b[49m\u001b[33;43m'\u001b[39;49m\u001b[33;43mr\u001b[39;49m\u001b[33;43m'\u001b[39;49m\u001b[43m,\u001b[49m\u001b[43m \u001b[49m\u001b[43mencoding\u001b[49m\u001b[43m=\u001b[49m\u001b[33;43m'\u001b[39;49m\u001b[33;43mUTF-8\u001b[39;49m\u001b[33;43m'\u001b[39;49m\u001b[43m)\u001b[49m\n\u001b[32m      2\u001b[39m xml = etree.parse(f)\n\u001b[32m      4\u001b[39m contents = xml.xpath(\u001b[33m'\u001b[39m\u001b[33m//content/text()\u001b[39m\u001b[33m'\u001b[39m)    \n",
      "\u001b[36mFile \u001b[39m\u001b[32m~\\AppData\\Roaming\\Python\\Python313\\site-packages\\IPython\\core\\interactiveshell.py:343\u001b[39m, in \u001b[36m_modified_open\u001b[39m\u001b[34m(file, *args, **kwargs)\u001b[39m\n\u001b[32m    336\u001b[39m \u001b[38;5;28;01mif\u001b[39;00m file \u001b[38;5;129;01min\u001b[39;00m {\u001b[32m0\u001b[39m, \u001b[32m1\u001b[39m, \u001b[32m2\u001b[39m}:\n\u001b[32m    337\u001b[39m     \u001b[38;5;28;01mraise\u001b[39;00m \u001b[38;5;167;01mValueError\u001b[39;00m(\n\u001b[32m    338\u001b[39m         \u001b[33mf\u001b[39m\u001b[33m\"\u001b[39m\u001b[33mIPython won\u001b[39m\u001b[33m'\u001b[39m\u001b[33mt let you open fd=\u001b[39m\u001b[38;5;132;01m{\u001b[39;00mfile\u001b[38;5;132;01m}\u001b[39;00m\u001b[33m by default \u001b[39m\u001b[33m\"\u001b[39m\n\u001b[32m    339\u001b[39m         \u001b[33m\"\u001b[39m\u001b[33mas it is likely to crash IPython. If you know what you are doing, \u001b[39m\u001b[33m\"\u001b[39m\n\u001b[32m    340\u001b[39m         \u001b[33m\"\u001b[39m\u001b[33myou can use builtins\u001b[39m\u001b[33m'\u001b[39m\u001b[33m open.\u001b[39m\u001b[33m\"\u001b[39m\n\u001b[32m    341\u001b[39m     )\n\u001b[32m--> \u001b[39m\u001b[32m343\u001b[39m \u001b[38;5;28;01mreturn\u001b[39;00m \u001b[43mio_open\u001b[49m\u001b[43m(\u001b[49m\u001b[43mfile\u001b[49m\u001b[43m,\u001b[49m\u001b[43m \u001b[49m\u001b[43m*\u001b[49m\u001b[43margs\u001b[49m\u001b[43m,\u001b[49m\u001b[43m \u001b[49m\u001b[43m*\u001b[49m\u001b[43m*\u001b[49m\u001b[43mkwargs\u001b[49m\u001b[43m)\u001b[49m\n",
      "\u001b[31mFileNotFoundError\u001b[39m: [Errno 2] No such file or directory: 'ted_en.xml'"
     ]
    }
   ],
   "source": [
    "f = open('ted_en.xml', 'r', encoding='UTF-8')\n",
    "xml = etree.parse(f)\n",
    "\n",
    "contents = xml.xpath('//content/text()')    \n",
    "\n",
    "corpus = '\\n'.join(contents)\n",
    "\n",
    "corpus = re.sub(r'\\([^)]*\\)', '', corpus)\n",
    "\n",
    "sentences = sent_tokenize(corpus)\n",
    "\n",
    "preprocessed_sentences = []\n",
    "en_stopwords = stopwords.words('english')\n",
    "\n",
    "for sentence in sentences:\n",
    "    sentence = sentence.lower()\n",
    "    sentence = re.sub(r'[^a-z0-9]', ' ', sentence)\n",
    "    tokens = word_tokenize(sentence)\n",
    "    tokens = [token for token in tokens if token not in en_stopwords]\n",
    "    preprocessed_sentences.append(tokens)\n",
    "\n",
    "preprocessed_sentences[:5]"
   ]
  },
  {
   "cell_type": "code",
   "execution_count": null,
   "id": "85932d5b",
   "metadata": {},
   "outputs": [],
   "source": [
    "from gensim.models import Word2Vec\n",
    "\n",
    "w2v_model = Word2Vec(\n",
    "    sentences=preprocessed_sentences,\n",
    "    vector_size=100,\n",
    "    window=5,\n",
    "    min_count=5,\n",
    "    sg=0\n",
    ")"
   ]
  },
  {
   "cell_type": "code",
   "execution_count": null,
   "id": "e29dfc69",
   "metadata": {},
   "outputs": [
    {
     "data": {
      "text/plain": [
       "(21462, 100)"
      ]
     },
     "execution_count": 4,
     "metadata": {},
     "output_type": "execute_result"
    }
   ],
   "source": [
    "w2v_model.wv.vectors.shape"
   ]
  },
  {
   "cell_type": "code",
   "execution_count": null,
   "id": "0ca01ce3",
   "metadata": {},
   "outputs": [
    {
     "data": {
      "text/plain": [
       "[('mother', 0.9286293983459473),\n",
       " ('son', 0.924569845199585),\n",
       " ('daughter', 0.9182101488113403),\n",
       " ('husband', 0.9080780148506165),\n",
       " ('grandmother', 0.8875057697296143),\n",
       " ('sister', 0.8855710625648499),\n",
       " ('uncle', 0.868552029132843),\n",
       " ('brother', 0.8556874394416809),\n",
       " ('wife', 0.8514041900634766),\n",
       " ('grandfather', 0.8434740304946899)]"
      ]
     },
     "execution_count": 5,
     "metadata": {},
     "output_type": "execute_result"
    }
   ],
   "source": [
    "w2v_model.wv.most_similar('father')\n",
    "# w2v_model.wv.most_similar('luckyfather')\n",
    "# KeyError: \"Key 'luckyfather' not present in vocabulary\" == OOV 이슈"
   ]
  },
  {
   "cell_type": "code",
   "execution_count": null,
   "id": "59676c11",
   "metadata": {},
   "outputs": [],
   "source": [
    "# FastText\n",
    "from gensim.models import FastText\n",
    "\n",
    "fasttext_model = FastText(\n",
    "    sentences=preprocessed_sentences,\n",
    "    vector_size=100,\n",
    "    window=5,\n",
    "    min_count=5,\n",
    "    sg=0\n",
    ")"
   ]
  },
  {
   "cell_type": "code",
   "execution_count": null,
   "id": "db58ff9b",
   "metadata": {},
   "outputs": [
    {
     "data": {
      "text/plain": [
       "(21462, 100)"
      ]
     },
     "execution_count": 7,
     "metadata": {},
     "output_type": "execute_result"
    }
   ],
   "source": [
    "fasttext_model.wv.vectors.shape"
   ]
  },
  {
   "cell_type": "code",
   "execution_count": null,
   "id": "980464cf",
   "metadata": {},
   "outputs": [
    {
     "data": {
      "text/plain": [
       "[('godfather', 0.9512758851051331),\n",
       " ('mother', 0.9480866193771362),\n",
       " ('grandfather', 0.9404357075691223),\n",
       " ('brother', 0.9326821565628052),\n",
       " ('grandmother', 0.9269680976867676),\n",
       " ('luther', 0.9109013080596924),\n",
       " ('bother', 0.8854381442070007),\n",
       " ('brotherhood', 0.8767275810241699),\n",
       " ('motherly', 0.8684408068656921),\n",
       " ('motherhood', 0.8657189607620239)]"
      ]
     },
     "execution_count": 8,
     "metadata": {},
     "output_type": "execute_result"
    }
   ],
   "source": [
    "fasttext_model.wv.most_similar('father')"
   ]
  },
  {
   "cell_type": "code",
   "execution_count": null,
   "id": "bd24a1be",
   "metadata": {},
   "outputs": [
    {
     "data": {
      "text/plain": [
       "[('father', 0.9735187888145447),\n",
       " ('godfather', 0.9538674354553223),\n",
       " ('mother', 0.9263980388641357),\n",
       " ('grandfather', 0.9261943101882935),\n",
       " ('luther', 0.9215258359909058),\n",
       " ('brother', 0.9141948819160461),\n",
       " ('grandmother', 0.9050705432891846),\n",
       " ('bother', 0.896907389163971),\n",
       " ('brotherhood', 0.8736904263496399),\n",
       " ('motherhood', 0.8616334199905396)]"
      ]
     },
     "execution_count": 9,
     "metadata": {},
     "output_type": "execute_result"
    }
   ],
   "source": [
    "fasttext_model.wv.most_similar('luckyfather')"
   ]
  },
  {
   "cell_type": "code",
   "execution_count": null,
   "id": "6c0b6d44",
   "metadata": {},
   "outputs": [
    {
     "name": "stdout",
     "output_type": "stream",
     "text": [
      "[-0.23447931 -0.36477354 -1.0040406   0.62194085  0.34875965  1.0513027\n",
      " -0.70366913 -0.21046147 -0.3624668  -0.17548466 -0.06402272 -0.05418586\n",
      " -0.38017932  0.25167167 -0.02686726 -0.37934443  0.4256372   0.2655972\n",
      "  0.09738821  0.39603195 -0.33067214 -0.17569494  0.3323578  -0.38105196\n",
      " -0.2876757   0.22417073 -0.31766826  0.10996711 -0.19049256 -0.51152176\n",
      " -0.3658422  -0.7764174   0.6516797   0.00164331  0.22516225  0.66507936\n",
      " -0.19990721  0.48614463  0.21054737  0.35412112 -0.1487462   0.16282551\n",
      " -0.18668695 -0.10410398 -0.07284244  0.6115415   0.25510898 -0.6156224\n",
      "  0.70832646  0.49720758  0.1748191   0.22940274  0.45895284 -0.5175231\n",
      "  0.4854679   0.43078333 -0.4334741   0.711079   -0.37983966  0.08228604\n",
      "  0.01552594  0.06502179 -0.67521346  0.36575395 -0.38858664  0.10255115\n",
      " -0.31841937 -0.2037342   0.48403463  0.42028475  0.39108366 -0.19155228\n",
      " -0.23603435 -0.17268986  0.24313249  0.08345649  0.54350686 -0.28051534\n",
      " -0.80115265  0.15153067 -0.1035024   0.11208391 -0.51690453  0.7290516\n",
      " -0.388817    0.24724828 -0.0331368  -0.27425176  0.1817772  -0.07024708\n",
      " -0.7227967   0.19975561  0.16260706 -0.27661654 -0.41732493  0.6584198\n",
      "  0.10263493 -0.11786941 -0.04282269 -0.21672224]\n",
      "[-0.07793272 -0.7063879  -2.243097    1.3456594   0.5563673   1.9665515\n",
      " -1.2405642  -0.81306374 -0.82865185 -0.20755993  0.0176619  -0.24231581\n",
      " -0.8484985   0.3510109  -0.32579514 -0.7850371   1.0819622   0.5971043\n",
      "  0.10057149  1.019421   -0.7422946  -0.48551583  0.960333   -1.1749601\n",
      " -0.39471248  0.7528243  -0.69976676  0.48575377 -0.74322325 -0.8428254\n",
      " -0.68056756 -1.6248709   1.2705237  -0.02721947  0.48492312  1.1123421\n",
      " -0.49137998  0.7636252   0.38221705  0.59942997 -0.61708724  0.6280171\n",
      " -0.8387529   0.07165927 -0.24108116  1.5224037   0.57262766 -1.1197811\n",
      "  1.2976551   0.95768595  0.08635843  0.31420848  0.57793444 -1.2796954\n",
      "  1.3082424   0.93984646 -0.75540876  1.4274662  -0.6929732   0.3404022\n",
      " -0.03997204  0.22754237 -1.3731222   0.54110813 -0.9135509   0.1394083\n",
      " -0.92559755 -0.43548775  1.2755858   0.47156134  0.75100577 -0.50309163\n",
      " -0.5425113  -0.438343    0.34693968 -0.0838868   1.2303772  -0.6043956\n",
      " -1.5752674   0.40584794 -0.11313743  0.47104514 -1.1520207   1.734214\n",
      " -0.65515727  0.7329323  -0.09931812 -0.6795127   0.5110711  -0.2551789\n",
      " -1.3125478   0.60605747  0.62320685 -0.9854669  -0.8818644   1.4044405\n",
      " -0.0797904  -0.16932851 -0.2108871  -0.73628414]\n"
     ]
    }
   ],
   "source": [
    "# OOV 단어도 subword 기반으로 검색해 vector 반환\n",
    "print(fasttext_model.wv['luckyfather'])\n",
    "print(fasttext_model.wv['father'])"
   ]
  },
  {
   "cell_type": "markdown",
   "id": "92752933",
   "metadata": {},
   "source": [
    "### fasttext 패키지 활용"
   ]
  },
  {
   "cell_type": "code",
   "execution_count": null,
   "id": "63117c87",
   "metadata": {},
   "outputs": [
    {
     "name": "stdout",
     "output_type": "stream",
     "text": [
      "Collecting fasttext-wheel\n",
      "  Downloading fasttext_wheel-0.9.2-cp312-cp312-win_amd64.whl.metadata (16 kB)\n",
      "Collecting pybind11>=2.2 (from fasttext-wheel)\n",
      "  Downloading pybind11-3.0.1-py3-none-any.whl.metadata (10.0 kB)\n",
      "Requirement already satisfied: setuptools>=0.7.0 in c:\\users\\playdata\\anaconda3\\envs\\ml_env\\lib\\site-packages (from fasttext-wheel) (78.1.1)\n",
      "Requirement already satisfied: numpy in c:\\users\\playdata\\anaconda3\\envs\\ml_env\\lib\\site-packages (from fasttext-wheel) (2.3.3)\n",
      "Downloading fasttext_wheel-0.9.2-cp312-cp312-win_amd64.whl (234 kB)\n",
      "Downloading pybind11-3.0.1-py3-none-any.whl (293 kB)\n",
      "Installing collected packages: pybind11, fasttext-wheel\n",
      "\n",
      "   ---------------------------------------- 2/2 [fasttext-wheel]\n",
      "\n",
      "Successfully installed fasttext-wheel-0.9.2 pybind11-3.0.1\n"
     ]
    }
   ],
   "source": [
    "!pip install fasttext-wheel"
   ]
  },
  {
   "cell_type": "code",
   "execution_count": null,
   "id": "dc22af19",
   "metadata": {},
   "outputs": [],
   "source": [
    "import fasttext\n",
    "\n",
    "model = fasttext.train_unsupervised(\n",
    "    'naver_movie_ratings.txt',\n",
    "    model='skipgram',\n",
    "    minCount=1,\n",
    "    dim=100,\n",
    "    minn=3, # subword 최소 ngram\n",
    "    maxn=5  # subword 최대 ngram\n",
    ")"
   ]
  },
  {
   "cell_type": "code",
   "execution_count": null,
   "id": "8cd403aa",
   "metadata": {},
   "outputs": [
    {
     "data": {
      "text/plain": [
       "array([ 0.49322352, -0.37126443, -0.48847747,  0.8331983 , -0.31740275,\n",
       "        0.07893787, -0.15449272,  0.01560479,  0.14578608,  0.61734337,\n",
       "        0.06154922,  0.4090892 ,  0.4815861 , -0.31416428, -0.7134507 ,\n",
       "       -1.0247767 , -0.00815904, -1.4249343 , -0.480567  , -0.18979743,\n",
       "        0.49130914,  0.34820208,  0.28475577, -0.06420416,  0.5830802 ,\n",
       "       -0.86361116, -0.18150797,  0.4902143 , -0.878152  ,  0.35613424,\n",
       "       -0.20119587,  0.45832473, -0.01014074,  0.30513126, -0.58922243,\n",
       "        0.23991   ,  0.05718429,  0.36492056, -0.37928203, -0.2873546 ,\n",
       "        0.04461949,  0.29814065,  0.33704758, -0.27334696,  1.0886282 ,\n",
       "       -0.15446392,  0.2065637 , -0.49115038, -0.11837739,  0.27551895,\n",
       "        0.27340886, -0.82777816, -0.13717332,  0.4777568 , -0.7063349 ,\n",
       "        0.11764389,  0.7402754 ,  0.27876064,  1.0882809 , -0.1219985 ,\n",
       "        0.44595551,  0.02715196,  0.20694724,  0.47467077, -0.01156405,\n",
       "       -0.04190172, -0.06251285,  0.00541051,  0.3882863 , -0.00318382,\n",
       "       -0.13496935, -0.33804756,  0.03426442, -0.23590699, -0.43102092,\n",
       "        0.9306234 ,  0.759364  , -0.2865456 , -0.52085465, -0.2114369 ,\n",
       "       -0.23452234,  0.21201213,  1.190682  , -0.06540863, -0.66883254,\n",
       "        0.5351171 ,  0.29209206,  0.17361116,  0.37622082, -0.30785444,\n",
       "       -0.4013217 ,  0.4315579 ,  1.3983202 ,  0.15009613, -0.5751814 ,\n",
       "        0.5191601 ,  1.243531  , -0.02614668, -0.1932007 ,  0.38671458],\n",
       "      dtype=float32)"
      ]
     },
     "execution_count": 14,
     "metadata": {},
     "output_type": "execute_result"
    }
   ],
   "source": [
    "model.get_word_vector('극장')"
   ]
  },
  {
   "cell_type": "code",
   "execution_count": null,
   "id": "b09eba98",
   "metadata": {},
   "outputs": [
    {
     "data": {
      "text/plain": [
       "(['영화관', '<영화', '<영화관', '<영화관>', '영화관', '영화관>', '화관>'],\n",
       " array([   2062, 1921845, 1442415, 1378913, 2245977, 1515139, 1352938]))"
      ]
     },
     "execution_count": 15,
     "metadata": {},
     "output_type": "execute_result"
    }
   ],
   "source": [
    "model.get_subwords('영화관')"
   ]
  }
 ],
 "metadata": {
  "kernelspec": {
   "display_name": "Python 3",
   "language": "python",
   "name": "python3"
  },
  "language_info": {
   "codemirror_mode": {
    "name": "ipython",
    "version": 3
   },
   "file_extension": ".py",
   "mimetype": "text/x-python",
   "name": "python",
   "nbconvert_exporter": "python",
   "pygments_lexer": "ipython3",
   "version": "3.13.7"
  }
 },
 "nbformat": 4,
 "nbformat_minor": 5
}
